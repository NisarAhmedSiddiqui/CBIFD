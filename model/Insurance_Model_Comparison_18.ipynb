{
 "cells": [
  {
   "cell_type": "code",
   "execution_count": 1,
   "id": "4a9fcdd3",
   "metadata": {},
   "outputs": [],
   "source": [
    "import pandas as pd\n",
    "import numpy as np\n",
    "import matplotlib.pyplot as plt\n",
    "import seaborn as sns\n",
    "\n",
    "import warnings\n",
    "warnings.filterwarnings('ignore')\n"
   ]
  },
  {
   "cell_type": "code",
   "execution_count": 2,
   "id": "c4777ddb",
   "metadata": {},
   "outputs": [],
   "source": [
    "df = pd.read_csv(r'C:\\Users\\khursheed alam\\OneDrive\\Desktop\\SOURCE CODE\\model\\fraud_oracle.csv')"
   ]
  },
  {
   "cell_type": "code",
   "execution_count": 3,
   "id": "10e41bbb",
   "metadata": {},
   "outputs": [
    {
     "data": {
      "text/html": [
       "<div>\n",
       "<style scoped>\n",
       "    .dataframe tbody tr th:only-of-type {\n",
       "        vertical-align: middle;\n",
       "    }\n",
       "\n",
       "    .dataframe tbody tr th {\n",
       "        vertical-align: top;\n",
       "    }\n",
       "\n",
       "    .dataframe thead th {\n",
       "        text-align: right;\n",
       "    }\n",
       "</style>\n",
       "<table border=\"1\" class=\"dataframe\">\n",
       "  <thead>\n",
       "    <tr style=\"text-align: right;\">\n",
       "      <th></th>\n",
       "      <th>Month</th>\n",
       "      <th>WeekOfMonth</th>\n",
       "      <th>DayOfWeek</th>\n",
       "      <th>Make</th>\n",
       "      <th>AccidentArea</th>\n",
       "      <th>DayOfWeekClaimed</th>\n",
       "      <th>MonthClaimed</th>\n",
       "      <th>WeekOfMonthClaimed</th>\n",
       "      <th>Sex</th>\n",
       "      <th>MaritalStatus</th>\n",
       "      <th>...</th>\n",
       "      <th>AgeOfVehicle</th>\n",
       "      <th>AgeOfPolicyHolder</th>\n",
       "      <th>PoliceReportFiled</th>\n",
       "      <th>WitnessPresent</th>\n",
       "      <th>AgentType</th>\n",
       "      <th>NumberOfSuppliments</th>\n",
       "      <th>AddressChange_Claim</th>\n",
       "      <th>NumberOfCars</th>\n",
       "      <th>Year</th>\n",
       "      <th>BasePolicy</th>\n",
       "    </tr>\n",
       "  </thead>\n",
       "  <tbody>\n",
       "    <tr>\n",
       "      <th>0</th>\n",
       "      <td>Dec</td>\n",
       "      <td>5</td>\n",
       "      <td>Wednesday</td>\n",
       "      <td>Honda</td>\n",
       "      <td>Urban</td>\n",
       "      <td>Tuesday</td>\n",
       "      <td>Jan</td>\n",
       "      <td>1</td>\n",
       "      <td>Female</td>\n",
       "      <td>Single</td>\n",
       "      <td>...</td>\n",
       "      <td>3 years</td>\n",
       "      <td>26 to 30</td>\n",
       "      <td>No</td>\n",
       "      <td>No</td>\n",
       "      <td>External</td>\n",
       "      <td>none</td>\n",
       "      <td>1 year</td>\n",
       "      <td>3 to 4</td>\n",
       "      <td>1994</td>\n",
       "      <td>Liability</td>\n",
       "    </tr>\n",
       "    <tr>\n",
       "      <th>1</th>\n",
       "      <td>Jan</td>\n",
       "      <td>3</td>\n",
       "      <td>Wednesday</td>\n",
       "      <td>Honda</td>\n",
       "      <td>Urban</td>\n",
       "      <td>Monday</td>\n",
       "      <td>Jan</td>\n",
       "      <td>4</td>\n",
       "      <td>Male</td>\n",
       "      <td>Single</td>\n",
       "      <td>...</td>\n",
       "      <td>6 years</td>\n",
       "      <td>31 to 35</td>\n",
       "      <td>Yes</td>\n",
       "      <td>No</td>\n",
       "      <td>External</td>\n",
       "      <td>none</td>\n",
       "      <td>no change</td>\n",
       "      <td>1 vehicle</td>\n",
       "      <td>1994</td>\n",
       "      <td>Collision</td>\n",
       "    </tr>\n",
       "    <tr>\n",
       "      <th>2</th>\n",
       "      <td>Oct</td>\n",
       "      <td>5</td>\n",
       "      <td>Friday</td>\n",
       "      <td>Honda</td>\n",
       "      <td>Urban</td>\n",
       "      <td>Thursday</td>\n",
       "      <td>Nov</td>\n",
       "      <td>2</td>\n",
       "      <td>Male</td>\n",
       "      <td>Married</td>\n",
       "      <td>...</td>\n",
       "      <td>7 years</td>\n",
       "      <td>41 to 50</td>\n",
       "      <td>No</td>\n",
       "      <td>No</td>\n",
       "      <td>External</td>\n",
       "      <td>none</td>\n",
       "      <td>no change</td>\n",
       "      <td>1 vehicle</td>\n",
       "      <td>1994</td>\n",
       "      <td>Collision</td>\n",
       "    </tr>\n",
       "    <tr>\n",
       "      <th>3</th>\n",
       "      <td>Jun</td>\n",
       "      <td>2</td>\n",
       "      <td>Saturday</td>\n",
       "      <td>Toyota</td>\n",
       "      <td>Rural</td>\n",
       "      <td>Friday</td>\n",
       "      <td>Jul</td>\n",
       "      <td>1</td>\n",
       "      <td>Male</td>\n",
       "      <td>Married</td>\n",
       "      <td>...</td>\n",
       "      <td>more than 7</td>\n",
       "      <td>51 to 65</td>\n",
       "      <td>Yes</td>\n",
       "      <td>No</td>\n",
       "      <td>External</td>\n",
       "      <td>more than 5</td>\n",
       "      <td>no change</td>\n",
       "      <td>1 vehicle</td>\n",
       "      <td>1994</td>\n",
       "      <td>Liability</td>\n",
       "    </tr>\n",
       "    <tr>\n",
       "      <th>4</th>\n",
       "      <td>Jan</td>\n",
       "      <td>5</td>\n",
       "      <td>Monday</td>\n",
       "      <td>Honda</td>\n",
       "      <td>Urban</td>\n",
       "      <td>Tuesday</td>\n",
       "      <td>Feb</td>\n",
       "      <td>2</td>\n",
       "      <td>Female</td>\n",
       "      <td>Single</td>\n",
       "      <td>...</td>\n",
       "      <td>5 years</td>\n",
       "      <td>31 to 35</td>\n",
       "      <td>No</td>\n",
       "      <td>No</td>\n",
       "      <td>External</td>\n",
       "      <td>none</td>\n",
       "      <td>no change</td>\n",
       "      <td>1 vehicle</td>\n",
       "      <td>1994</td>\n",
       "      <td>Collision</td>\n",
       "    </tr>\n",
       "    <tr>\n",
       "      <th>...</th>\n",
       "      <td>...</td>\n",
       "      <td>...</td>\n",
       "      <td>...</td>\n",
       "      <td>...</td>\n",
       "      <td>...</td>\n",
       "      <td>...</td>\n",
       "      <td>...</td>\n",
       "      <td>...</td>\n",
       "      <td>...</td>\n",
       "      <td>...</td>\n",
       "      <td>...</td>\n",
       "      <td>...</td>\n",
       "      <td>...</td>\n",
       "      <td>...</td>\n",
       "      <td>...</td>\n",
       "      <td>...</td>\n",
       "      <td>...</td>\n",
       "      <td>...</td>\n",
       "      <td>...</td>\n",
       "      <td>...</td>\n",
       "      <td>...</td>\n",
       "    </tr>\n",
       "    <tr>\n",
       "      <th>15415</th>\n",
       "      <td>Nov</td>\n",
       "      <td>4</td>\n",
       "      <td>Friday</td>\n",
       "      <td>Toyota</td>\n",
       "      <td>Urban</td>\n",
       "      <td>Tuesday</td>\n",
       "      <td>Nov</td>\n",
       "      <td>5</td>\n",
       "      <td>Male</td>\n",
       "      <td>Married</td>\n",
       "      <td>...</td>\n",
       "      <td>6 years</td>\n",
       "      <td>31 to 35</td>\n",
       "      <td>No</td>\n",
       "      <td>No</td>\n",
       "      <td>External</td>\n",
       "      <td>none</td>\n",
       "      <td>no change</td>\n",
       "      <td>1 vehicle</td>\n",
       "      <td>1996</td>\n",
       "      <td>Collision</td>\n",
       "    </tr>\n",
       "    <tr>\n",
       "      <th>15416</th>\n",
       "      <td>Nov</td>\n",
       "      <td>5</td>\n",
       "      <td>Thursday</td>\n",
       "      <td>Pontiac</td>\n",
       "      <td>Urban</td>\n",
       "      <td>Friday</td>\n",
       "      <td>Dec</td>\n",
       "      <td>1</td>\n",
       "      <td>Male</td>\n",
       "      <td>Married</td>\n",
       "      <td>...</td>\n",
       "      <td>6 years</td>\n",
       "      <td>31 to 35</td>\n",
       "      <td>No</td>\n",
       "      <td>No</td>\n",
       "      <td>External</td>\n",
       "      <td>more than 5</td>\n",
       "      <td>no change</td>\n",
       "      <td>3 to 4</td>\n",
       "      <td>1996</td>\n",
       "      <td>Liability</td>\n",
       "    </tr>\n",
       "    <tr>\n",
       "      <th>15417</th>\n",
       "      <td>Nov</td>\n",
       "      <td>5</td>\n",
       "      <td>Thursday</td>\n",
       "      <td>Toyota</td>\n",
       "      <td>Rural</td>\n",
       "      <td>Friday</td>\n",
       "      <td>Dec</td>\n",
       "      <td>1</td>\n",
       "      <td>Male</td>\n",
       "      <td>Single</td>\n",
       "      <td>...</td>\n",
       "      <td>5 years</td>\n",
       "      <td>26 to 30</td>\n",
       "      <td>No</td>\n",
       "      <td>No</td>\n",
       "      <td>External</td>\n",
       "      <td>1 to 2</td>\n",
       "      <td>no change</td>\n",
       "      <td>1 vehicle</td>\n",
       "      <td>1996</td>\n",
       "      <td>Collision</td>\n",
       "    </tr>\n",
       "    <tr>\n",
       "      <th>15418</th>\n",
       "      <td>Dec</td>\n",
       "      <td>1</td>\n",
       "      <td>Monday</td>\n",
       "      <td>Toyota</td>\n",
       "      <td>Urban</td>\n",
       "      <td>Thursday</td>\n",
       "      <td>Dec</td>\n",
       "      <td>2</td>\n",
       "      <td>Female</td>\n",
       "      <td>Married</td>\n",
       "      <td>...</td>\n",
       "      <td>2 years</td>\n",
       "      <td>31 to 35</td>\n",
       "      <td>No</td>\n",
       "      <td>No</td>\n",
       "      <td>External</td>\n",
       "      <td>more than 5</td>\n",
       "      <td>no change</td>\n",
       "      <td>1 vehicle</td>\n",
       "      <td>1996</td>\n",
       "      <td>All Perils</td>\n",
       "    </tr>\n",
       "    <tr>\n",
       "      <th>15419</th>\n",
       "      <td>Dec</td>\n",
       "      <td>2</td>\n",
       "      <td>Wednesday</td>\n",
       "      <td>Toyota</td>\n",
       "      <td>Urban</td>\n",
       "      <td>Thursday</td>\n",
       "      <td>Dec</td>\n",
       "      <td>3</td>\n",
       "      <td>Male</td>\n",
       "      <td>Single</td>\n",
       "      <td>...</td>\n",
       "      <td>5 years</td>\n",
       "      <td>26 to 30</td>\n",
       "      <td>No</td>\n",
       "      <td>No</td>\n",
       "      <td>External</td>\n",
       "      <td>1 to 2</td>\n",
       "      <td>no change</td>\n",
       "      <td>1 vehicle</td>\n",
       "      <td>1996</td>\n",
       "      <td>Collision</td>\n",
       "    </tr>\n",
       "  </tbody>\n",
       "</table>\n",
       "<p>15420 rows × 33 columns</p>\n",
       "</div>"
      ],
      "text/plain": [
       "      Month  WeekOfMonth  DayOfWeek     Make AccidentArea DayOfWeekClaimed  \\\n",
       "0       Dec            5  Wednesday    Honda        Urban          Tuesday   \n",
       "1       Jan            3  Wednesday    Honda        Urban           Monday   \n",
       "2       Oct            5     Friday    Honda        Urban         Thursday   \n",
       "3       Jun            2   Saturday   Toyota        Rural           Friday   \n",
       "4       Jan            5     Monday    Honda        Urban          Tuesday   \n",
       "...     ...          ...        ...      ...          ...              ...   \n",
       "15415   Nov            4     Friday   Toyota        Urban          Tuesday   \n",
       "15416   Nov            5   Thursday  Pontiac        Urban           Friday   \n",
       "15417   Nov            5   Thursday   Toyota        Rural           Friday   \n",
       "15418   Dec            1     Monday   Toyota        Urban         Thursday   \n",
       "15419   Dec            2  Wednesday   Toyota        Urban         Thursday   \n",
       "\n",
       "      MonthClaimed  WeekOfMonthClaimed     Sex MaritalStatus  ...  \\\n",
       "0              Jan                   1  Female        Single  ...   \n",
       "1              Jan                   4    Male        Single  ...   \n",
       "2              Nov                   2    Male       Married  ...   \n",
       "3              Jul                   1    Male       Married  ...   \n",
       "4              Feb                   2  Female        Single  ...   \n",
       "...            ...                 ...     ...           ...  ...   \n",
       "15415          Nov                   5    Male       Married  ...   \n",
       "15416          Dec                   1    Male       Married  ...   \n",
       "15417          Dec                   1    Male        Single  ...   \n",
       "15418          Dec                   2  Female       Married  ...   \n",
       "15419          Dec                   3    Male        Single  ...   \n",
       "\n",
       "       AgeOfVehicle AgeOfPolicyHolder PoliceReportFiled WitnessPresent  \\\n",
       "0           3 years          26 to 30                No             No   \n",
       "1           6 years          31 to 35               Yes             No   \n",
       "2           7 years          41 to 50                No             No   \n",
       "3       more than 7          51 to 65               Yes             No   \n",
       "4           5 years          31 to 35                No             No   \n",
       "...             ...               ...               ...            ...   \n",
       "15415       6 years          31 to 35                No             No   \n",
       "15416       6 years          31 to 35                No             No   \n",
       "15417       5 years          26 to 30                No             No   \n",
       "15418       2 years          31 to 35                No             No   \n",
       "15419       5 years          26 to 30                No             No   \n",
       "\n",
       "      AgentType  NumberOfSuppliments  AddressChange_Claim  NumberOfCars  Year  \\\n",
       "0      External                 none               1 year        3 to 4  1994   \n",
       "1      External                 none            no change     1 vehicle  1994   \n",
       "2      External                 none            no change     1 vehicle  1994   \n",
       "3      External          more than 5            no change     1 vehicle  1994   \n",
       "4      External                 none            no change     1 vehicle  1994   \n",
       "...         ...                  ...                  ...           ...   ...   \n",
       "15415  External                 none            no change     1 vehicle  1996   \n",
       "15416  External          more than 5            no change        3 to 4  1996   \n",
       "15417  External               1 to 2            no change     1 vehicle  1996   \n",
       "15418  External          more than 5            no change     1 vehicle  1996   \n",
       "15419  External               1 to 2            no change     1 vehicle  1996   \n",
       "\n",
       "       BasePolicy  \n",
       "0       Liability  \n",
       "1       Collision  \n",
       "2       Collision  \n",
       "3       Liability  \n",
       "4       Collision  \n",
       "...           ...  \n",
       "15415   Collision  \n",
       "15416   Liability  \n",
       "15417   Collision  \n",
       "15418  All Perils  \n",
       "15419   Collision  \n",
       "\n",
       "[15420 rows x 33 columns]"
      ]
     },
     "execution_count": 3,
     "metadata": {},
     "output_type": "execute_result"
    }
   ],
   "source": [
    "df"
   ]
  },
  {
   "cell_type": "code",
   "execution_count": 4,
   "id": "9c50f233",
   "metadata": {},
   "outputs": [
    {
     "data": {
      "text/plain": [
       "Month                   object\n",
       "WeekOfMonth              int64\n",
       "DayOfWeek               object\n",
       "Make                    object\n",
       "AccidentArea            object\n",
       "DayOfWeekClaimed        object\n",
       "MonthClaimed            object\n",
       "WeekOfMonthClaimed       int64\n",
       "Sex                     object\n",
       "MaritalStatus           object\n",
       "Age                      int64\n",
       "Fault                   object\n",
       "PolicyType              object\n",
       "VehicleCategory         object\n",
       "VehiclePrice            object\n",
       "FraudFound_P             int64\n",
       "PolicyNumber             int64\n",
       "RepNumber                int64\n",
       "Deductible               int64\n",
       "DriverRating             int64\n",
       "Days_Policy_Accident    object\n",
       "Days_Policy_Claim       object\n",
       "PastNumberOfClaims      object\n",
       "AgeOfVehicle            object\n",
       "AgeOfPolicyHolder       object\n",
       "PoliceReportFiled       object\n",
       "WitnessPresent          object\n",
       "AgentType               object\n",
       "NumberOfSuppliments     object\n",
       "AddressChange_Claim     object\n",
       "NumberOfCars            object\n",
       "Year                     int64\n",
       "BasePolicy              object\n",
       "dtype: object"
      ]
     },
     "execution_count": 4,
     "metadata": {},
     "output_type": "execute_result"
    }
   ],
   "source": [
    "df.dtypes"
   ]
  },
  {
   "cell_type": "code",
   "execution_count": 5,
   "id": "b9d84e8a",
   "metadata": {},
   "outputs": [
    {
     "data": {
      "text/plain": [
       "Month                   0\n",
       "WeekOfMonth             0\n",
       "DayOfWeek               0\n",
       "Make                    0\n",
       "AccidentArea            0\n",
       "DayOfWeekClaimed        0\n",
       "MonthClaimed            0\n",
       "WeekOfMonthClaimed      0\n",
       "Sex                     0\n",
       "MaritalStatus           0\n",
       "Age                     0\n",
       "Fault                   0\n",
       "PolicyType              0\n",
       "VehicleCategory         0\n",
       "VehiclePrice            0\n",
       "FraudFound_P            0\n",
       "PolicyNumber            0\n",
       "RepNumber               0\n",
       "Deductible              0\n",
       "DriverRating            0\n",
       "Days_Policy_Accident    0\n",
       "Days_Policy_Claim       0\n",
       "PastNumberOfClaims      0\n",
       "AgeOfVehicle            0\n",
       "AgeOfPolicyHolder       0\n",
       "PoliceReportFiled       0\n",
       "WitnessPresent          0\n",
       "AgentType               0\n",
       "NumberOfSuppliments     0\n",
       "AddressChange_Claim     0\n",
       "NumberOfCars            0\n",
       "Year                    0\n",
       "BasePolicy              0\n",
       "dtype: int64"
      ]
     },
     "execution_count": 5,
     "metadata": {},
     "output_type": "execute_result"
    }
   ],
   "source": [
    "df.isnull().sum()"
   ]
  },
  {
   "cell_type": "code",
   "execution_count": 6,
   "id": "d907b7b7",
   "metadata": {},
   "outputs": [
    {
     "data": {
      "text/html": [
       "<div>\n",
       "<style scoped>\n",
       "    .dataframe tbody tr th:only-of-type {\n",
       "        vertical-align: middle;\n",
       "    }\n",
       "\n",
       "    .dataframe tbody tr th {\n",
       "        vertical-align: top;\n",
       "    }\n",
       "\n",
       "    .dataframe thead th {\n",
       "        text-align: right;\n",
       "    }\n",
       "</style>\n",
       "<table border=\"1\" class=\"dataframe\">\n",
       "  <thead>\n",
       "    <tr style=\"text-align: right;\">\n",
       "      <th></th>\n",
       "      <th>WeekOfMonth</th>\n",
       "      <th>WeekOfMonthClaimed</th>\n",
       "      <th>Age</th>\n",
       "      <th>FraudFound_P</th>\n",
       "      <th>PolicyNumber</th>\n",
       "      <th>RepNumber</th>\n",
       "      <th>Deductible</th>\n",
       "      <th>DriverRating</th>\n",
       "      <th>Year</th>\n",
       "    </tr>\n",
       "  </thead>\n",
       "  <tbody>\n",
       "    <tr>\n",
       "      <th>count</th>\n",
       "      <td>15420.000000</td>\n",
       "      <td>15420.000000</td>\n",
       "      <td>15420.000000</td>\n",
       "      <td>15420.000000</td>\n",
       "      <td>15420.000000</td>\n",
       "      <td>15420.000000</td>\n",
       "      <td>15420.000000</td>\n",
       "      <td>15420.000000</td>\n",
       "      <td>15420.000000</td>\n",
       "    </tr>\n",
       "    <tr>\n",
       "      <th>mean</th>\n",
       "      <td>2.788586</td>\n",
       "      <td>2.693969</td>\n",
       "      <td>39.855707</td>\n",
       "      <td>0.059857</td>\n",
       "      <td>7710.500000</td>\n",
       "      <td>8.483268</td>\n",
       "      <td>407.704280</td>\n",
       "      <td>2.487808</td>\n",
       "      <td>1994.866472</td>\n",
       "    </tr>\n",
       "    <tr>\n",
       "      <th>std</th>\n",
       "      <td>1.287585</td>\n",
       "      <td>1.259115</td>\n",
       "      <td>13.492377</td>\n",
       "      <td>0.237230</td>\n",
       "      <td>4451.514911</td>\n",
       "      <td>4.599948</td>\n",
       "      <td>43.950998</td>\n",
       "      <td>1.119453</td>\n",
       "      <td>0.803313</td>\n",
       "    </tr>\n",
       "    <tr>\n",
       "      <th>min</th>\n",
       "      <td>1.000000</td>\n",
       "      <td>1.000000</td>\n",
       "      <td>0.000000</td>\n",
       "      <td>0.000000</td>\n",
       "      <td>1.000000</td>\n",
       "      <td>1.000000</td>\n",
       "      <td>300.000000</td>\n",
       "      <td>1.000000</td>\n",
       "      <td>1994.000000</td>\n",
       "    </tr>\n",
       "    <tr>\n",
       "      <th>25%</th>\n",
       "      <td>2.000000</td>\n",
       "      <td>2.000000</td>\n",
       "      <td>31.000000</td>\n",
       "      <td>0.000000</td>\n",
       "      <td>3855.750000</td>\n",
       "      <td>5.000000</td>\n",
       "      <td>400.000000</td>\n",
       "      <td>1.000000</td>\n",
       "      <td>1994.000000</td>\n",
       "    </tr>\n",
       "    <tr>\n",
       "      <th>50%</th>\n",
       "      <td>3.000000</td>\n",
       "      <td>3.000000</td>\n",
       "      <td>38.000000</td>\n",
       "      <td>0.000000</td>\n",
       "      <td>7710.500000</td>\n",
       "      <td>8.000000</td>\n",
       "      <td>400.000000</td>\n",
       "      <td>2.000000</td>\n",
       "      <td>1995.000000</td>\n",
       "    </tr>\n",
       "    <tr>\n",
       "      <th>75%</th>\n",
       "      <td>4.000000</td>\n",
       "      <td>4.000000</td>\n",
       "      <td>48.000000</td>\n",
       "      <td>0.000000</td>\n",
       "      <td>11565.250000</td>\n",
       "      <td>12.000000</td>\n",
       "      <td>400.000000</td>\n",
       "      <td>3.000000</td>\n",
       "      <td>1996.000000</td>\n",
       "    </tr>\n",
       "    <tr>\n",
       "      <th>max</th>\n",
       "      <td>5.000000</td>\n",
       "      <td>5.000000</td>\n",
       "      <td>80.000000</td>\n",
       "      <td>1.000000</td>\n",
       "      <td>15420.000000</td>\n",
       "      <td>16.000000</td>\n",
       "      <td>700.000000</td>\n",
       "      <td>4.000000</td>\n",
       "      <td>1996.000000</td>\n",
       "    </tr>\n",
       "  </tbody>\n",
       "</table>\n",
       "</div>"
      ],
      "text/plain": [
       "        WeekOfMonth  WeekOfMonthClaimed           Age  FraudFound_P  \\\n",
       "count  15420.000000        15420.000000  15420.000000  15420.000000   \n",
       "mean       2.788586            2.693969     39.855707      0.059857   \n",
       "std        1.287585            1.259115     13.492377      0.237230   \n",
       "min        1.000000            1.000000      0.000000      0.000000   \n",
       "25%        2.000000            2.000000     31.000000      0.000000   \n",
       "50%        3.000000            3.000000     38.000000      0.000000   \n",
       "75%        4.000000            4.000000     48.000000      0.000000   \n",
       "max        5.000000            5.000000     80.000000      1.000000   \n",
       "\n",
       "       PolicyNumber     RepNumber    Deductible  DriverRating          Year  \n",
       "count  15420.000000  15420.000000  15420.000000  15420.000000  15420.000000  \n",
       "mean    7710.500000      8.483268    407.704280      2.487808   1994.866472  \n",
       "std     4451.514911      4.599948     43.950998      1.119453      0.803313  \n",
       "min        1.000000      1.000000    300.000000      1.000000   1994.000000  \n",
       "25%     3855.750000      5.000000    400.000000      1.000000   1994.000000  \n",
       "50%     7710.500000      8.000000    400.000000      2.000000   1995.000000  \n",
       "75%    11565.250000     12.000000    400.000000      3.000000   1996.000000  \n",
       "max    15420.000000     16.000000    700.000000      4.000000   1996.000000  "
      ]
     },
     "execution_count": 6,
     "metadata": {},
     "output_type": "execute_result"
    }
   ],
   "source": [
    "# Summary for num cols\n",
    "df.describe()"
   ]
  },
  {
   "cell_type": "code",
   "execution_count": 7,
   "id": "b7bfff3a",
   "metadata": {},
   "outputs": [
    {
     "data": {
      "text/html": [
       "<div>\n",
       "<style scoped>\n",
       "    .dataframe tbody tr th:only-of-type {\n",
       "        vertical-align: middle;\n",
       "    }\n",
       "\n",
       "    .dataframe tbody tr th {\n",
       "        vertical-align: top;\n",
       "    }\n",
       "\n",
       "    .dataframe thead th {\n",
       "        text-align: right;\n",
       "    }\n",
       "</style>\n",
       "<table border=\"1\" class=\"dataframe\">\n",
       "  <thead>\n",
       "    <tr style=\"text-align: right;\">\n",
       "      <th></th>\n",
       "      <th>Month</th>\n",
       "      <th>WeekOfMonth</th>\n",
       "      <th>DayOfWeek</th>\n",
       "      <th>Make</th>\n",
       "      <th>AccidentArea</th>\n",
       "      <th>DayOfWeekClaimed</th>\n",
       "      <th>MonthClaimed</th>\n",
       "      <th>WeekOfMonthClaimed</th>\n",
       "      <th>Sex</th>\n",
       "      <th>MaritalStatus</th>\n",
       "      <th>...</th>\n",
       "      <th>AgeOfVehicle</th>\n",
       "      <th>AgeOfPolicyHolder</th>\n",
       "      <th>PoliceReportFiled</th>\n",
       "      <th>WitnessPresent</th>\n",
       "      <th>AgentType</th>\n",
       "      <th>NumberOfSuppliments</th>\n",
       "      <th>AddressChange_Claim</th>\n",
       "      <th>NumberOfCars</th>\n",
       "      <th>Year</th>\n",
       "      <th>BasePolicy</th>\n",
       "    </tr>\n",
       "  </thead>\n",
       "  <tbody>\n",
       "    <tr>\n",
       "      <th>0</th>\n",
       "      <td>False</td>\n",
       "      <td>False</td>\n",
       "      <td>False</td>\n",
       "      <td>False</td>\n",
       "      <td>False</td>\n",
       "      <td>False</td>\n",
       "      <td>False</td>\n",
       "      <td>False</td>\n",
       "      <td>False</td>\n",
       "      <td>False</td>\n",
       "      <td>...</td>\n",
       "      <td>False</td>\n",
       "      <td>False</td>\n",
       "      <td>False</td>\n",
       "      <td>False</td>\n",
       "      <td>False</td>\n",
       "      <td>False</td>\n",
       "      <td>False</td>\n",
       "      <td>False</td>\n",
       "      <td>False</td>\n",
       "      <td>False</td>\n",
       "    </tr>\n",
       "    <tr>\n",
       "      <th>1</th>\n",
       "      <td>False</td>\n",
       "      <td>False</td>\n",
       "      <td>False</td>\n",
       "      <td>False</td>\n",
       "      <td>False</td>\n",
       "      <td>False</td>\n",
       "      <td>False</td>\n",
       "      <td>False</td>\n",
       "      <td>False</td>\n",
       "      <td>False</td>\n",
       "      <td>...</td>\n",
       "      <td>False</td>\n",
       "      <td>False</td>\n",
       "      <td>False</td>\n",
       "      <td>False</td>\n",
       "      <td>False</td>\n",
       "      <td>False</td>\n",
       "      <td>False</td>\n",
       "      <td>False</td>\n",
       "      <td>False</td>\n",
       "      <td>False</td>\n",
       "    </tr>\n",
       "    <tr>\n",
       "      <th>2</th>\n",
       "      <td>False</td>\n",
       "      <td>False</td>\n",
       "      <td>False</td>\n",
       "      <td>False</td>\n",
       "      <td>False</td>\n",
       "      <td>False</td>\n",
       "      <td>False</td>\n",
       "      <td>False</td>\n",
       "      <td>False</td>\n",
       "      <td>False</td>\n",
       "      <td>...</td>\n",
       "      <td>False</td>\n",
       "      <td>False</td>\n",
       "      <td>False</td>\n",
       "      <td>False</td>\n",
       "      <td>False</td>\n",
       "      <td>False</td>\n",
       "      <td>False</td>\n",
       "      <td>False</td>\n",
       "      <td>False</td>\n",
       "      <td>False</td>\n",
       "    </tr>\n",
       "    <tr>\n",
       "      <th>3</th>\n",
       "      <td>False</td>\n",
       "      <td>False</td>\n",
       "      <td>False</td>\n",
       "      <td>False</td>\n",
       "      <td>False</td>\n",
       "      <td>False</td>\n",
       "      <td>False</td>\n",
       "      <td>False</td>\n",
       "      <td>False</td>\n",
       "      <td>False</td>\n",
       "      <td>...</td>\n",
       "      <td>False</td>\n",
       "      <td>False</td>\n",
       "      <td>False</td>\n",
       "      <td>False</td>\n",
       "      <td>False</td>\n",
       "      <td>False</td>\n",
       "      <td>False</td>\n",
       "      <td>False</td>\n",
       "      <td>False</td>\n",
       "      <td>False</td>\n",
       "    </tr>\n",
       "    <tr>\n",
       "      <th>4</th>\n",
       "      <td>False</td>\n",
       "      <td>False</td>\n",
       "      <td>False</td>\n",
       "      <td>False</td>\n",
       "      <td>False</td>\n",
       "      <td>False</td>\n",
       "      <td>False</td>\n",
       "      <td>False</td>\n",
       "      <td>False</td>\n",
       "      <td>False</td>\n",
       "      <td>...</td>\n",
       "      <td>False</td>\n",
       "      <td>False</td>\n",
       "      <td>False</td>\n",
       "      <td>False</td>\n",
       "      <td>False</td>\n",
       "      <td>False</td>\n",
       "      <td>False</td>\n",
       "      <td>False</td>\n",
       "      <td>False</td>\n",
       "      <td>False</td>\n",
       "    </tr>\n",
       "    <tr>\n",
       "      <th>...</th>\n",
       "      <td>...</td>\n",
       "      <td>...</td>\n",
       "      <td>...</td>\n",
       "      <td>...</td>\n",
       "      <td>...</td>\n",
       "      <td>...</td>\n",
       "      <td>...</td>\n",
       "      <td>...</td>\n",
       "      <td>...</td>\n",
       "      <td>...</td>\n",
       "      <td>...</td>\n",
       "      <td>...</td>\n",
       "      <td>...</td>\n",
       "      <td>...</td>\n",
       "      <td>...</td>\n",
       "      <td>...</td>\n",
       "      <td>...</td>\n",
       "      <td>...</td>\n",
       "      <td>...</td>\n",
       "      <td>...</td>\n",
       "      <td>...</td>\n",
       "    </tr>\n",
       "    <tr>\n",
       "      <th>15415</th>\n",
       "      <td>False</td>\n",
       "      <td>False</td>\n",
       "      <td>False</td>\n",
       "      <td>False</td>\n",
       "      <td>False</td>\n",
       "      <td>False</td>\n",
       "      <td>False</td>\n",
       "      <td>False</td>\n",
       "      <td>False</td>\n",
       "      <td>False</td>\n",
       "      <td>...</td>\n",
       "      <td>False</td>\n",
       "      <td>False</td>\n",
       "      <td>False</td>\n",
       "      <td>False</td>\n",
       "      <td>False</td>\n",
       "      <td>False</td>\n",
       "      <td>False</td>\n",
       "      <td>False</td>\n",
       "      <td>False</td>\n",
       "      <td>False</td>\n",
       "    </tr>\n",
       "    <tr>\n",
       "      <th>15416</th>\n",
       "      <td>False</td>\n",
       "      <td>False</td>\n",
       "      <td>False</td>\n",
       "      <td>False</td>\n",
       "      <td>False</td>\n",
       "      <td>False</td>\n",
       "      <td>False</td>\n",
       "      <td>False</td>\n",
       "      <td>False</td>\n",
       "      <td>False</td>\n",
       "      <td>...</td>\n",
       "      <td>False</td>\n",
       "      <td>False</td>\n",
       "      <td>False</td>\n",
       "      <td>False</td>\n",
       "      <td>False</td>\n",
       "      <td>False</td>\n",
       "      <td>False</td>\n",
       "      <td>False</td>\n",
       "      <td>False</td>\n",
       "      <td>False</td>\n",
       "    </tr>\n",
       "    <tr>\n",
       "      <th>15417</th>\n",
       "      <td>False</td>\n",
       "      <td>False</td>\n",
       "      <td>False</td>\n",
       "      <td>False</td>\n",
       "      <td>False</td>\n",
       "      <td>False</td>\n",
       "      <td>False</td>\n",
       "      <td>False</td>\n",
       "      <td>False</td>\n",
       "      <td>False</td>\n",
       "      <td>...</td>\n",
       "      <td>False</td>\n",
       "      <td>False</td>\n",
       "      <td>False</td>\n",
       "      <td>False</td>\n",
       "      <td>False</td>\n",
       "      <td>False</td>\n",
       "      <td>False</td>\n",
       "      <td>False</td>\n",
       "      <td>False</td>\n",
       "      <td>False</td>\n",
       "    </tr>\n",
       "    <tr>\n",
       "      <th>15418</th>\n",
       "      <td>False</td>\n",
       "      <td>False</td>\n",
       "      <td>False</td>\n",
       "      <td>False</td>\n",
       "      <td>False</td>\n",
       "      <td>False</td>\n",
       "      <td>False</td>\n",
       "      <td>False</td>\n",
       "      <td>False</td>\n",
       "      <td>False</td>\n",
       "      <td>...</td>\n",
       "      <td>False</td>\n",
       "      <td>False</td>\n",
       "      <td>False</td>\n",
       "      <td>False</td>\n",
       "      <td>False</td>\n",
       "      <td>False</td>\n",
       "      <td>False</td>\n",
       "      <td>False</td>\n",
       "      <td>False</td>\n",
       "      <td>False</td>\n",
       "    </tr>\n",
       "    <tr>\n",
       "      <th>15419</th>\n",
       "      <td>False</td>\n",
       "      <td>False</td>\n",
       "      <td>False</td>\n",
       "      <td>False</td>\n",
       "      <td>False</td>\n",
       "      <td>False</td>\n",
       "      <td>False</td>\n",
       "      <td>False</td>\n",
       "      <td>False</td>\n",
       "      <td>False</td>\n",
       "      <td>...</td>\n",
       "      <td>False</td>\n",
       "      <td>False</td>\n",
       "      <td>False</td>\n",
       "      <td>False</td>\n",
       "      <td>False</td>\n",
       "      <td>False</td>\n",
       "      <td>False</td>\n",
       "      <td>False</td>\n",
       "      <td>False</td>\n",
       "      <td>False</td>\n",
       "    </tr>\n",
       "  </tbody>\n",
       "</table>\n",
       "<p>15420 rows × 33 columns</p>\n",
       "</div>"
      ],
      "text/plain": [
       "       Month  WeekOfMonth  DayOfWeek   Make  AccidentArea  DayOfWeekClaimed  \\\n",
       "0      False        False      False  False         False             False   \n",
       "1      False        False      False  False         False             False   \n",
       "2      False        False      False  False         False             False   \n",
       "3      False        False      False  False         False             False   \n",
       "4      False        False      False  False         False             False   \n",
       "...      ...          ...        ...    ...           ...               ...   \n",
       "15415  False        False      False  False         False             False   \n",
       "15416  False        False      False  False         False             False   \n",
       "15417  False        False      False  False         False             False   \n",
       "15418  False        False      False  False         False             False   \n",
       "15419  False        False      False  False         False             False   \n",
       "\n",
       "       MonthClaimed  WeekOfMonthClaimed    Sex  MaritalStatus  ...  \\\n",
       "0             False               False  False          False  ...   \n",
       "1             False               False  False          False  ...   \n",
       "2             False               False  False          False  ...   \n",
       "3             False               False  False          False  ...   \n",
       "4             False               False  False          False  ...   \n",
       "...             ...                 ...    ...            ...  ...   \n",
       "15415         False               False  False          False  ...   \n",
       "15416         False               False  False          False  ...   \n",
       "15417         False               False  False          False  ...   \n",
       "15418         False               False  False          False  ...   \n",
       "15419         False               False  False          False  ...   \n",
       "\n",
       "       AgeOfVehicle  AgeOfPolicyHolder  PoliceReportFiled  WitnessPresent  \\\n",
       "0             False              False              False           False   \n",
       "1             False              False              False           False   \n",
       "2             False              False              False           False   \n",
       "3             False              False              False           False   \n",
       "4             False              False              False           False   \n",
       "...             ...                ...                ...             ...   \n",
       "15415         False              False              False           False   \n",
       "15416         False              False              False           False   \n",
       "15417         False              False              False           False   \n",
       "15418         False              False              False           False   \n",
       "15419         False              False              False           False   \n",
       "\n",
       "       AgentType  NumberOfSuppliments  AddressChange_Claim  NumberOfCars  \\\n",
       "0          False                False                False         False   \n",
       "1          False                False                False         False   \n",
       "2          False                False                False         False   \n",
       "3          False                False                False         False   \n",
       "4          False                False                False         False   \n",
       "...          ...                  ...                  ...           ...   \n",
       "15415      False                False                False         False   \n",
       "15416      False                False                False         False   \n",
       "15417      False                False                False         False   \n",
       "15418      False                False                False         False   \n",
       "15419      False                False                False         False   \n",
       "\n",
       "        Year  BasePolicy  \n",
       "0      False       False  \n",
       "1      False       False  \n",
       "2      False       False  \n",
       "3      False       False  \n",
       "4      False       False  \n",
       "...      ...         ...  \n",
       "15415  False       False  \n",
       "15416  False       False  \n",
       "15417  False       False  \n",
       "15418  False       False  \n",
       "15419  False       False  \n",
       "\n",
       "[15420 rows x 33 columns]"
      ]
     },
     "execution_count": 7,
     "metadata": {},
     "output_type": "execute_result"
    }
   ],
   "source": [
    "# Checking the missing values \n",
    "df.isnull()"
   ]
  },
  {
   "cell_type": "code",
   "execution_count": 8,
   "id": "f596eb86",
   "metadata": {},
   "outputs": [
    {
     "data": {
      "text/plain": [
       "0"
      ]
     },
     "execution_count": 8,
     "metadata": {},
     "output_type": "execute_result"
    }
   ],
   "source": [
    "# Checking for duplicate values\n",
    "df.duplicated().sum()"
   ]
  },
  {
   "cell_type": "markdown",
   "id": "c9a7cf18",
   "metadata": {},
   "source": [
    "## Data Visualization"
   ]
  },
  {
   "cell_type": "code",
   "execution_count": 9,
   "id": "e75cd967",
   "metadata": {},
   "outputs": [
    {
     "data": {
      "image/png": "[encoded data removed]",
      "text/plain": [
       "<Figure size 576x432 with 1 Axes>"
      ]
     },
     "metadata": {},
     "output_type": "display_data"
    }
   ],
   "source": [
    "labels = df.FraudFound_P.value_counts().index\n",
    "labels = [\"No\" if i==0 else \"Yes\" for i in labels]\n",
    "sizes = df.FraudFound_P.value_counts().values\n",
    "\n",
    "plt.figure(figsize=(8, 6))\n",
    "plt.pie(sizes, labels=labels, autopct='%1.1f%%', startangle=140,explode=[0.05,0])\n",
    "plt.title('Claims detected as Fraud')\n",
    "plt.axis('equal')\n",
    "plt.show()"
   ]
  },
  {
   "cell_type": "markdown",
   "id": "40edb48b",
   "metadata": {},
   "source": [
    "***Only 6% of the claims reported as fraud. As it was expected, the dataset is imbalanced***"
   ]
  },
  {
   "cell_type": "markdown",
   "id": "4cb78203",
   "metadata": {},
   "source": [
    "<a id = '1.3'></a>\n",
    "<p style = \"font-size : 25px; font-family : 'Poppins'; border-radius: 10px;\"><strong>Handling Missing Values</strong></p>\n"
   ]
  },
  {
   "cell_type": "markdown",
   "id": "697bb00c",
   "metadata": {},
   "source": [
    "**First we will see all unique values**"
   ]
  },
  {
   "cell_type": "code",
   "execution_count": 10,
   "id": "35f04249",
   "metadata": {},
   "outputs": [
    {
     "data": {
      "text/plain": [
       "array(['Liability', 'Collision', 'All Perils'], dtype=object)"
      ]
     },
     "execution_count": 10,
     "metadata": {},
     "output_type": "execute_result"
    }
   ],
   "source": [
    "df['BasePolicy'].unique()"
   ]
  },
  {
   "cell_type": "code",
   "execution_count": 11,
   "id": "ca50ac4b",
   "metadata": {},
   "outputs": [],
   "source": [
    "# get rid of policy number column\n",
    "#df.drop(columns=['PolicyNumber'], inplace=True)"
   ]
  },
  {
   "cell_type": "code",
   "execution_count": 12,
   "id": "1ac1b053",
   "metadata": {},
   "outputs": [
    {
     "name": "stdout",
     "output_type": "stream",
     "text": [
      "Month ['Dec' 'Jan' 'Oct' 'Jun' 'Feb' 'Nov' 'Apr' 'Mar' 'Aug' 'Jul' 'May' 'Sep']\n",
      "WeekOfMonth [5 3 2 4 1]\n",
      "DayOfWeek ['Wednesday' 'Friday' 'Saturday' 'Monday' 'Tuesday' 'Sunday' 'Thursday']\n",
      "Make ['Honda' 'Toyota' 'Ford' 'Mazda' 'Chevrolet' 'Pontiac' 'Accura' 'Dodge'\n",
      " 'Mercury' 'Jaguar' 'Nisson' 'VW' 'Saab' 'Saturn' 'Porche' 'BMW' 'Mecedes'\n",
      " 'Ferrari' 'Lexus']\n",
      "AccidentArea ['Urban' 'Rural']\n",
      "DayOfWeekClaimed ['Tuesday' 'Monday' 'Thursday' 'Friday' 'Wednesday' 'Saturday' 'Sunday'\n",
      " '0']\n",
      "MonthClaimed ['Jan' 'Nov' 'Jul' 'Feb' 'Mar' 'Dec' 'Apr' 'Aug' 'May' 'Jun' 'Sep' 'Oct'\n",
      " '0']\n",
      "WeekOfMonthClaimed [1 4 2 3 5]\n",
      "Sex ['Female' 'Male']\n",
      "MaritalStatus ['Single' 'Married' 'Widow' 'Divorced']\n",
      "Age [21 34 47 65 27 20 36  0 30 42 71 52 28 61 38 41 32 40 63 31 45 60 39 55\n",
      " 35 44 72 29 37 59 49 50 26 48 64 33 74 23 25 56 16 68 18 51 22 53 46 43\n",
      " 57 54 69 67 19 78 77 75 80 58 73 24 76 62 79 70 17 66]\n",
      "Fault ['Policy Holder' 'Third Party']\n",
      "PolicyType ['Sport - Liability' 'Sport - Collision' 'Sedan - Liability'\n",
      " 'Utility - All Perils' 'Sedan - All Perils' 'Sedan - Collision'\n",
      " 'Utility - Collision' 'Utility - Liability' 'Sport - All Perils']\n",
      "VehicleCategory ['Sport' 'Utility' 'Sedan']\n",
      "VehiclePrice ['more than 69000' '20000 to 29000' '30000 to 39000' 'less than 20000'\n",
      " '40000 to 59000' '60000 to 69000']\n",
      "FraudFound_P [0 1]\n",
      "PolicyNumber [    1     2     3 ... 15418 15419 15420]\n",
      "RepNumber [12 15  7  4  3 14  1 13 11 16  6  2  8  5  9 10]\n",
      "Deductible [300 400 500 700]\n",
      "DriverRating [1 4 3 2]\n",
      "Days_Policy_Accident ['more than 30' '15 to 30' 'none' '1 to 7' '8 to 15']\n",
      "Days_Policy_Claim ['more than 30' '15 to 30' '8 to 15' 'none']\n",
      "PastNumberOfClaims ['none' '1' '2 to 4' 'more than 4']\n",
      "AgeOfVehicle ['3 years' '6 years' '7 years' 'more than 7' '5 years' 'new' '4 years'\n",
      " '2 years']\n",
      "AgeOfPolicyHolder ['26 to 30' '31 to 35' '41 to 50' '51 to 65' '21 to 25' '36 to 40'\n",
      " '16 to 17' 'over 65' '18 to 20']\n",
      "PoliceReportFiled ['No' 'Yes']\n",
      "WitnessPresent ['No' 'Yes']\n",
      "AgentType ['External' 'Internal']\n",
      "NumberOfSuppliments ['none' 'more than 5' '3 to 5' '1 to 2']\n",
      "AddressChange_Claim ['1 year' 'no change' '4 to 8 years' '2 to 3 years' 'under 6 months']\n",
      "NumberOfCars ['3 to 4' '1 vehicle' '2 vehicles' '5 to 8' 'more than 8']\n",
      "Year [1994 1995 1996]\n",
      "BasePolicy ['Liability' 'Collision' 'All Perils']\n"
     ]
    },
    {
     "data": {
      "text/plain": [
       "\"\\ndef get_unique_values_df(df):\\n   \\n    pd.set_option('max_colwidth', None)\\n    data = []\\n    for column in df:\\n        unique_values = ', '.join(map(str, df[column].unique()))\\n        data.append([column, unique_values])\\n\\n    # Create a new DataFrame to display the unique values\\n    unique_values_df = pd.DataFrame(data, columns=['Column Name', 'Unique Values'])\\n    return unique_values_df\\n\\nget_unique_values_df(df)\\n\""
      ]
     },
     "execution_count": 12,
     "metadata": {},
     "output_type": "execute_result"
    }
   ],
   "source": [
    "    \n",
    "print('Month',df['Month'].unique())\n",
    "print('WeekOfMonth',df['WeekOfMonth'].unique())\n",
    "print('DayOfWeek',df['DayOfWeek'].unique())\n",
    "print('Make',df['Make'].unique())\n",
    "print('AccidentArea',df['AccidentArea'].unique())\n",
    "print('DayOfWeekClaimed',df['DayOfWeekClaimed'].unique())\n",
    "print('MonthClaimed',df['MonthClaimed'].unique())\n",
    "print('WeekOfMonthClaimed',df['WeekOfMonthClaimed'].unique())\n",
    "print('Sex',df['Sex'].unique())\n",
    "print('MaritalStatus',df['MaritalStatus'].unique())\n",
    "print('Age',df['Age'].unique())\n",
    "print('Fault',df['Fault'].unique())\n",
    "print('PolicyType',df['PolicyType'].unique())\n",
    "print('VehicleCategory',df['VehicleCategory'].unique())\n",
    "print('VehiclePrice',df['VehiclePrice'].unique())\n",
    "print('FraudFound_P',df['FraudFound_P'].unique())\n",
    "print('PolicyNumber',df['PolicyNumber'].unique())\n",
    "print('RepNumber',df['RepNumber'].unique())\n",
    "print('Deductible',df['Deductible'].unique())\n",
    "print('DriverRating',df['DriverRating'].unique())\n",
    "print('Days_Policy_Accident', df['Days_Policy_Accident'].unique())\n",
    "print('Days_Policy_Claim',df['Days_Policy_Claim'].unique())\n",
    "print('PastNumberOfClaims',df['PastNumberOfClaims'].unique())\n",
    "print('AgeOfVehicle',df['AgeOfVehicle'].unique())\n",
    "print('AgeOfPolicyHolder',df['AgeOfPolicyHolder'].unique())\n",
    "print('PoliceReportFiled',df['PoliceReportFiled'].unique())\n",
    "print('WitnessPresent',df['WitnessPresent'].unique())\n",
    "print('AgentType',df['AgentType'].unique())\n",
    "print('NumberOfSuppliments',df['NumberOfSuppliments'].unique())\n",
    "print('AddressChange_Claim',df['AddressChange_Claim'].unique())\n",
    "print('NumberOfCars',df['NumberOfCars'].unique())\n",
    "print('Year',df['Year'].unique())\n",
    "print('BasePolicy',df['BasePolicy'].unique())\n",
    "\n",
    "'''\n",
    "def get_unique_values_df(df):\n",
    "   \n",
    "    pd.set_option('max_colwidth', None)\n",
    "    data = []\n",
    "    for column in df:\n",
    "        unique_values = ', '.join(map(str, df[column].unique()))\n",
    "        data.append([column, unique_values])\n",
    "\n",
    "    # Create a new DataFrame to display the unique values\n",
    "    unique_values_df = pd.DataFrame(data, columns=['Column Name', 'Unique Values'])\n",
    "    return unique_values_df\n",
    "\n",
    "get_unique_values_df(df)\n",
    "'''"
   ]
  },
  {
   "cell_type": "raw",
   "id": "971aaa64",
   "metadata": {},
   "source": [
    "data.loc[data['floors']==1.5, 'floors'] = 2\n",
    "data.loc[data['floors']==2.5, 'floors'] = 3\n",
    "data.loc[data['floors']==3.5, 'floors'] = 4"
   ]
  },
  {
   "cell_type": "code",
   "execution_count": 13,
   "id": "8c051bc6",
   "metadata": {},
   "outputs": [
    {
     "data": {
      "text/plain": [
       "array([    1,     2,     3, ..., 15418, 15419, 15420], dtype=int64)"
      ]
     },
     "execution_count": 13,
     "metadata": {},
     "output_type": "execute_result"
    }
   ],
   "source": [
    "df['PolicyNumber'].unique()"
   ]
  },
  {
   "cell_type": "code",
   "execution_count": 14,
   "id": "052a2f3c",
   "metadata": {},
   "outputs": [
    {
     "data": {
      "text/plain": [
       "Month                   0\n",
       "WeekOfMonth             0\n",
       "DayOfWeek               0\n",
       "Make                    0\n",
       "AccidentArea            0\n",
       "DayOfWeekClaimed        0\n",
       "MonthClaimed            0\n",
       "WeekOfMonthClaimed      0\n",
       "Sex                     0\n",
       "MaritalStatus           0\n",
       "Age                     0\n",
       "Fault                   0\n",
       "PolicyType              0\n",
       "VehicleCategory         0\n",
       "VehiclePrice            0\n",
       "FraudFound_P            0\n",
       "PolicyNumber            0\n",
       "RepNumber               0\n",
       "Deductible              0\n",
       "DriverRating            0\n",
       "Days_Policy_Accident    0\n",
       "Days_Policy_Claim       0\n",
       "PastNumberOfClaims      0\n",
       "AgeOfVehicle            0\n",
       "AgeOfPolicyHolder       0\n",
       "PoliceReportFiled       0\n",
       "WitnessPresent          0\n",
       "AgentType               0\n",
       "NumberOfSuppliments     0\n",
       "AddressChange_Claim     0\n",
       "NumberOfCars            0\n",
       "Year                    0\n",
       "BasePolicy              0\n",
       "dtype: int64"
      ]
     },
     "execution_count": 14,
     "metadata": {},
     "output_type": "execute_result"
    }
   ],
   "source": [
    "df.isnull().sum()"
   ]
  },
  {
   "cell_type": "code",
   "execution_count": 15,
   "id": "e500be56",
   "metadata": {},
   "outputs": [
    {
     "data": {
      "text/plain": [
       "<AxesSubplot:>"
      ]
     },
     "execution_count": 15,
     "metadata": {},
     "output_type": "execute_result"
    },
    {
     "data": {
      "image/png": "[encoded data removed]",
      "text/plain": [
       "<Figure size 432x288 with 1 Axes>"
      ]
     },
     "metadata": {
      "needs_background": "light"
     },
     "output_type": "display_data"
    }
   ],
   "source": [
    "df[\"FraudFound_P\"].value_counts().plot(kind=\"bar\", color=['salmon', 'lightblue'])\n"
   ]
  },
  {
   "cell_type": "code",
   "execution_count": 16,
   "id": "08aa1edf",
   "metadata": {},
   "outputs": [
    {
     "data": {
      "text/plain": [
       "Male      13000\n",
       "Female     2420\n",
       "Name: Sex, dtype: int64"
      ]
     },
     "execution_count": 16,
     "metadata": {},
     "output_type": "execute_result"
    }
   ],
   "source": [
    "df['Sex'].value_counts()"
   ]
  },
  {
   "cell_type": "code",
   "execution_count": 17,
   "id": "73514ea5",
   "metadata": {},
   "outputs": [
    {
     "data": {
      "text/plain": [
       "<AxesSubplot:>"
      ]
     },
     "execution_count": 17,
     "metadata": {},
     "output_type": "execute_result"
    },
    {
     "data": {
      "image/png": "[encoded data removed]",
      "text/plain": [
       "<Figure size 432x288 with 1 Axes>"
      ]
     },
     "metadata": {
      "needs_background": "light"
     },
     "output_type": "display_data"
    }
   ],
   "source": [
    "df[\"FraudFound_P\"].value_counts().plot(kind=\"bar\", color=['salmon', 'lightblue'])\n"
   ]
  },
  {
   "cell_type": "code",
   "execution_count": 18,
   "id": "0d154134",
   "metadata": {},
   "outputs": [
    {
     "data": {
      "text/plain": [
       "<AxesSubplot:>"
      ]
     },
     "execution_count": 18,
     "metadata": {},
     "output_type": "execute_result"
    },
    {
     "data": {
      "image/png": "[encoded data removed]",
      "text/plain": [
       "<Figure size 432x288 with 1 Axes>"
      ]
     },
     "metadata": {
      "needs_background": "light"
     },
     "output_type": "display_data"
    }
   ],
   "source": [
    "df[\"PolicyType\"].value_counts().plot(kind=\"bar\", color=['salmon','lightblue'])"
   ]
  },
  {
   "cell_type": "code",
   "execution_count": 19,
   "id": "ac7fd91e",
   "metadata": {},
   "outputs": [
    {
     "data": {
      "text/plain": [
       "array(['more than 69000', '20000 to 29000', '30000 to 39000',\n",
       "       'less than 20000', '40000 to 59000', '60000 to 69000'],\n",
       "      dtype=object)"
      ]
     },
     "execution_count": 19,
     "metadata": {},
     "output_type": "execute_result"
    }
   ],
   "source": [
    "df['VehiclePrice'].unique()"
   ]
  },
  {
   "cell_type": "code",
   "execution_count": 20,
   "id": "c45b8438",
   "metadata": {},
   "outputs": [
    {
     "data": {
      "text/plain": [
       "(1, 33)"
      ]
     },
     "execution_count": 20,
     "metadata": {},
     "output_type": "execute_result"
    }
   ],
   "source": [
    "df[df['PolicyType'] == 'Sport - Liability'].shape"
   ]
  },
  {
   "cell_type": "code",
   "execution_count": 21,
   "id": "a585d00a",
   "metadata": {},
   "outputs": [
    {
     "data": {
      "text/plain": [
       "(22, 33)"
      ]
     },
     "execution_count": 21,
     "metadata": {},
     "output_type": "execute_result"
    }
   ],
   "source": [
    "df[df['PolicyType']=='Sport - All Perils'].shape"
   ]
  },
  {
   "cell_type": "code",
   "execution_count": 22,
   "id": "f5528af4",
   "metadata": {},
   "outputs": [],
   "source": [
    "import seaborn as sns"
   ]
  },
  {
   "cell_type": "code",
   "execution_count": 23,
   "id": "67498f08",
   "metadata": {},
   "outputs": [],
   "source": [
    "#sns.barplot(x='VehiclePrice', y='price', df=df)"
   ]
  },
  {
   "cell_type": "markdown",
   "id": "d1629f75",
   "metadata": {},
   "source": [
    "**Now we have to take care of the 0 value on the Age category**"
   ]
  },
  {
   "cell_type": "code",
   "execution_count": null,
   "id": "eb034d78",
   "metadata": {},
   "outputs": [],
   "source": []
  },
  {
   "cell_type": "code",
   "execution_count": 24,
   "id": "d2c2b4e6",
   "metadata": {},
   "outputs": [
    {
     "data": {
      "text/plain": [
       "16 to 17    320\n",
       "Name: AgeOfPolicyHolder, dtype: int64"
      ]
     },
     "execution_count": 24,
     "metadata": {},
     "output_type": "execute_result"
    }
   ],
   "source": [
    "mask_0 = df[\"Age\"] == 0\n",
    "df_age_0 = df[mask_0]\n",
    "df_age_0.AgeOfPolicyHolder.value_counts()"
   ]
  },
  {
   "cell_type": "code",
   "execution_count": 25,
   "id": "3323932c",
   "metadata": {},
   "outputs": [
    {
     "data": {
      "image/png": "[encoded data removed]",
      "text/plain": [
       "<Figure size 1584x432 with 1 Axes>"
      ]
     },
     "metadata": {
      "needs_background": "light"
     },
     "output_type": "display_data"
    }
   ],
   "source": [
    "gpd_by_val=df.groupby('Age').agg({'FraudFound_P':'sum'}).reset_index()\n",
    "\n",
    "fig, (ax1) = plt.subplots(1,1,figsize=(22, 6))\n",
    "grph =sns.barplot(x='Age', y='FraudFound_P', data = gpd_by_val, ax=ax1)\n",
    "\n",
    "plt.title(\"Incidencia de Fraude por edad\")\n",
    "grph.set_xticklabels(grph.get_xticklabels(),\n",
    "                    rotation=0,\n",
    "                    horizontalalignment='right'\n",
    "                    );"
   ]
  },
  {
   "cell_type": "code",
   "execution_count": 26,
   "id": "8e53f9ab",
   "metadata": {},
   "outputs": [
    {
     "data": {
      "text/html": [
       "<div>\n",
       "<style scoped>\n",
       "    .dataframe tbody tr th:only-of-type {\n",
       "        vertical-align: middle;\n",
       "    }\n",
       "\n",
       "    .dataframe tbody tr th {\n",
       "        vertical-align: top;\n",
       "    }\n",
       "\n",
       "    .dataframe thead th {\n",
       "        text-align: right;\n",
       "    }\n",
       "</style>\n",
       "<table border=\"1\" class=\"dataframe\">\n",
       "  <thead>\n",
       "    <tr style=\"text-align: right;\">\n",
       "      <th></th>\n",
       "      <th>PolicyType</th>\n",
       "      <th>VehicleCategory</th>\n",
       "      <th>BasePolicy</th>\n",
       "    </tr>\n",
       "  </thead>\n",
       "  <tbody>\n",
       "    <tr>\n",
       "      <th>0</th>\n",
       "      <td>Sport - Liability</td>\n",
       "      <td>Sport</td>\n",
       "      <td>Liability</td>\n",
       "    </tr>\n",
       "    <tr>\n",
       "      <th>1</th>\n",
       "      <td>Sport - Collision</td>\n",
       "      <td>Sport</td>\n",
       "      <td>Collision</td>\n",
       "    </tr>\n",
       "    <tr>\n",
       "      <th>2</th>\n",
       "      <td>Sport - Collision</td>\n",
       "      <td>Sport</td>\n",
       "      <td>Collision</td>\n",
       "    </tr>\n",
       "    <tr>\n",
       "      <th>3</th>\n",
       "      <td>Sedan - Liability</td>\n",
       "      <td>Sport</td>\n",
       "      <td>Liability</td>\n",
       "    </tr>\n",
       "    <tr>\n",
       "      <th>4</th>\n",
       "      <td>Sport - Collision</td>\n",
       "      <td>Sport</td>\n",
       "      <td>Collision</td>\n",
       "    </tr>\n",
       "  </tbody>\n",
       "</table>\n",
       "</div>"
      ],
      "text/plain": [
       "          PolicyType VehicleCategory BasePolicy\n",
       "0  Sport - Liability           Sport  Liability\n",
       "1  Sport - Collision           Sport  Collision\n",
       "2  Sport - Collision           Sport  Collision\n",
       "3  Sedan - Liability           Sport  Liability\n",
       "4  Sport - Collision           Sport  Collision"
      ]
     },
     "execution_count": 26,
     "metadata": {},
     "output_type": "execute_result"
    }
   ],
   "source": [
    "df[[\"PolicyType\", \"VehicleCategory\", \"BasePolicy\"]].head()\n"
   ]
  },
  {
   "cell_type": "code",
   "execution_count": 27,
   "id": "bb322ed3",
   "metadata": {},
   "outputs": [],
   "source": [
    "#sns.barplot(x='Age', y='DriverRating', df=df)"
   ]
  },
  {
   "cell_type": "code",
   "execution_count": 28,
   "id": "f4f1f21a",
   "metadata": {},
   "outputs": [
    {
     "data": {
      "text/plain": [
       "Month                   object\n",
       "WeekOfMonth              int64\n",
       "DayOfWeek               object\n",
       "Make                    object\n",
       "AccidentArea            object\n",
       "DayOfWeekClaimed        object\n",
       "MonthClaimed            object\n",
       "WeekOfMonthClaimed       int64\n",
       "Sex                     object\n",
       "MaritalStatus           object\n",
       "Age                      int64\n",
       "Fault                   object\n",
       "PolicyType              object\n",
       "VehicleCategory         object\n",
       "VehiclePrice            object\n",
       "FraudFound_P             int64\n",
       "PolicyNumber             int64\n",
       "RepNumber                int64\n",
       "Deductible               int64\n",
       "DriverRating             int64\n",
       "Days_Policy_Accident    object\n",
       "Days_Policy_Claim       object\n",
       "PastNumberOfClaims      object\n",
       "AgeOfVehicle            object\n",
       "AgeOfPolicyHolder       object\n",
       "PoliceReportFiled       object\n",
       "WitnessPresent          object\n",
       "AgentType               object\n",
       "NumberOfSuppliments     object\n",
       "AddressChange_Claim     object\n",
       "NumberOfCars            object\n",
       "Year                     int64\n",
       "BasePolicy              object\n",
       "dtype: object"
      ]
     },
     "execution_count": 28,
     "metadata": {},
     "output_type": "execute_result"
    }
   ],
   "source": [
    "df.dtypes"
   ]
  },
  {
   "cell_type": "markdown",
   "id": "186a2b84",
   "metadata": {},
   "source": [
    "***Investigate the 0 in DayOfWeekClaimed and MonthClaimed***"
   ]
  },
  {
   "cell_type": "markdown",
   "id": "3e741f8c",
   "metadata": {},
   "source": [
    "****We see there is only one row where either the DayOfWeekClaimed or MonthClaimed are 0. \n",
    "So now we compare them****"
   ]
  },
  {
   "cell_type": "code",
   "execution_count": 29,
   "id": "8a0e8cc1",
   "metadata": {},
   "outputs": [
    {
     "name": "stdout",
     "output_type": "stream",
     "text": [
      "DayOfWeekClaimed has  1  row(s) with a 0\n",
      "MonthClaimed has  1  row(s) with a 0\n",
      " \n",
      "     Month  WeekOfMonth DayOfWeek   Make AccidentArea DayOfWeekClaimed  \\\n",
      "1516   Jul            2    Monday  Honda        Rural                0   \n",
      "\n",
      "     MonthClaimed  WeekOfMonthClaimed   Sex MaritalStatus  ...  AgeOfVehicle  \\\n",
      "1516            0                   1  Male        Single  ...           new   \n",
      "\n",
      "     AgeOfPolicyHolder PoliceReportFiled WitnessPresent AgentType  \\\n",
      "1516          16 to 17                No             No  External   \n",
      "\n",
      "      NumberOfSuppliments  AddressChange_Claim  NumberOfCars  Year  BasePolicy  \n",
      "1516                 none            no change     1 vehicle  1994  All Perils  \n",
      "\n",
      "[1 rows x 33 columns]\n",
      "     Month  WeekOfMonth DayOfWeek   Make AccidentArea DayOfWeekClaimed  \\\n",
      "1516   Jul            2    Monday  Honda        Rural                0   \n",
      "\n",
      "     MonthClaimed  WeekOfMonthClaimed   Sex MaritalStatus  ...  AgeOfVehicle  \\\n",
      "1516            0                   1  Male        Single  ...           new   \n",
      "\n",
      "     AgeOfPolicyHolder PoliceReportFiled WitnessPresent AgentType  \\\n",
      "1516          16 to 17                No             No  External   \n",
      "\n",
      "      NumberOfSuppliments  AddressChange_Claim  NumberOfCars  Year  BasePolicy  \n",
      "1516                 none            no change     1 vehicle  1994  All Perils  \n",
      "\n",
      "[1 rows x 33 columns]\n"
     ]
    }
   ],
   "source": [
    "\n",
    "print('DayOfWeekClaimed has ', len(df.loc[(df['DayOfWeekClaimed']=='0')]), ' row(s) with a 0')\n",
    "print('MonthClaimed has ',len(df.loc[(df['MonthClaimed']=='0')]),' row(s) with a 0') \n",
    "print(' ')\n",
    "\n",
    "\n",
    "print(df.loc[(df['DayOfWeekClaimed']=='0')])\n",
    "print(df.loc[(df['MonthClaimed']=='0')])"
   ]
  },
  {
   "cell_type": "code",
   "execution_count": 30,
   "id": "990ff487",
   "metadata": {},
   "outputs": [],
   "source": [
    "df = df.loc[df['DayOfWeekClaimed']!='0']\n"
   ]
  },
  {
   "cell_type": "code",
   "execution_count": 31,
   "id": "fde2b2fb",
   "metadata": {},
   "outputs": [
    {
     "data": {
      "text/plain": [
       "15419"
      ]
     },
     "execution_count": 31,
     "metadata": {},
     "output_type": "execute_result"
    }
   ],
   "source": [
    "df.reset_index(drop=True, inplace=True)\n",
    "len(df)"
   ]
  },
  {
   "cell_type": "code",
   "execution_count": 32,
   "id": "8927d360",
   "metadata": {},
   "outputs": [
    {
     "name": "stdout",
     "output_type": "stream",
     "text": [
      "319\n"
     ]
    }
   ],
   "source": [
    "#There are 319 rows where the feature Age is assigned a zero, \n",
    "print(len(df[df['Age']==0]))\n",
    "\n",
    "#though for the displayed rows the policy holder is said to be between 16 and 17 years old. \n",
    "df.loc[df['Age']==0, 'AgeOfPolicyHolder']\n",
    "\n",
    "#Need to check the policy holders age and then reassign a value.\n",
    "df2_age0_idx = (df['Age']==0)"
   ]
  },
  {
   "cell_type": "code",
   "execution_count": 33,
   "id": "a9a94df3",
   "metadata": {},
   "outputs": [
    {
     "data": {
      "text/plain": [
       "array(['16 to 17'], dtype=object)"
      ]
     },
     "execution_count": 33,
     "metadata": {},
     "output_type": "execute_result"
    }
   ],
   "source": [
    "df.loc[(df['Age']==0),'AgeOfPolicyHolder'].unique()"
   ]
  },
  {
   "cell_type": "code",
   "execution_count": 34,
   "id": "409a117b",
   "metadata": {},
   "outputs": [],
   "source": [
    "groupings = []\n",
    "for holder in df['AgeOfPolicyHolder']:\n",
    "    if 'to' in holder :\n",
    "        temp = holder.split()\n",
    "        nr=[int(temp[0]),int(temp[2])]\n",
    "        groupings.append(nr)\n",
    "    else :\n",
    "        temp = holder.split()\n",
    "        nr = [int(temp[1]),129]\n",
    "        groupings.append(nr)"
   ]
  },
  {
   "cell_type": "code",
   "execution_count": 35,
   "id": "b146c60b",
   "metadata": {},
   "outputs": [],
   "source": [
    "age_idx = []\n",
    "rw_idx = []\n",
    "for r in range(len(df['Age'])):\n",
    "    if (df.loc[r,'Age']>= groupings[r][0]) & (df.loc[r,'Age']<= groupings[r][1]):\n",
    "        age_idx.append(0)\n",
    "    else:\n",
    "        age_idx.append(1)\n",
    "        rw_idx.append(r)"
   ]
  },
  {
   "cell_type": "code",
   "execution_count": 36,
   "id": "51b47fb3",
   "metadata": {},
   "outputs": [
    {
     "name": "stdout",
     "output_type": "stream",
     "text": [
      "7241\n"
     ]
    },
    {
     "data": {
      "text/html": [
       "<div>\n",
       "<style scoped>\n",
       "    .dataframe tbody tr th:only-of-type {\n",
       "        vertical-align: middle;\n",
       "    }\n",
       "\n",
       "    .dataframe tbody tr th {\n",
       "        vertical-align: top;\n",
       "    }\n",
       "\n",
       "    .dataframe thead th {\n",
       "        text-align: right;\n",
       "    }\n",
       "</style>\n",
       "<table border=\"1\" class=\"dataframe\">\n",
       "  <thead>\n",
       "    <tr style=\"text-align: right;\">\n",
       "      <th></th>\n",
       "      <th>Age</th>\n",
       "      <th>AgeOfPolicyHolder</th>\n",
       "    </tr>\n",
       "  </thead>\n",
       "  <tbody>\n",
       "    <tr>\n",
       "      <th>0</th>\n",
       "      <td>21</td>\n",
       "      <td>26 to 30</td>\n",
       "    </tr>\n",
       "    <tr>\n",
       "      <th>4</th>\n",
       "      <td>27</td>\n",
       "      <td>31 to 35</td>\n",
       "    </tr>\n",
       "    <tr>\n",
       "      <th>5</th>\n",
       "      <td>20</td>\n",
       "      <td>21 to 25</td>\n",
       "    </tr>\n",
       "    <tr>\n",
       "      <th>7</th>\n",
       "      <td>0</td>\n",
       "      <td>16 to 17</td>\n",
       "    </tr>\n",
       "    <tr>\n",
       "      <th>8</th>\n",
       "      <td>30</td>\n",
       "      <td>31 to 35</td>\n",
       "    </tr>\n",
       "  </tbody>\n",
       "</table>\n",
       "</div>"
      ],
      "text/plain": [
       "   Age AgeOfPolicyHolder\n",
       "0   21          26 to 30\n",
       "4   27          31 to 35\n",
       "5   20          21 to 25\n",
       "7    0          16 to 17\n",
       "8   30          31 to 35"
      ]
     },
     "execution_count": 36,
     "metadata": {},
     "output_type": "execute_result"
    }
   ],
   "source": [
    "print(len(df.loc[list(rw_idx),('Age','AgeOfPolicyHolder')]))\n",
    "df.loc[list(rw_idx),('Age','AgeOfPolicyHolder')].head()"
   ]
  },
  {
   "cell_type": "markdown",
   "id": "d3f8bcba",
   "metadata": {},
   "source": [
    "*****Assigns an age of 16 to all rows with missing Age values*****"
   ]
  },
  {
   "cell_type": "code",
   "execution_count": 37,
   "id": "f819d491",
   "metadata": {},
   "outputs": [],
   "source": [
    "df.loc[list(df2_age0_idx),'Age']=16"
   ]
  },
  {
   "cell_type": "code",
   "execution_count": 38,
   "id": "3e822249",
   "metadata": {},
   "outputs": [
    {
     "name": "stdout",
     "output_type": "stream",
     "text": [
      "[False False False False False False False False False False False False\n",
      " False False False False False False False False False False False False\n",
      " False False False False False False False False False False False False\n",
      " False False False False False False False False False False False False\n",
      " False False False False False False False False False False False False\n",
      " False False False False False]\n"
     ]
    },
    {
     "data": {
      "text/plain": [
       "0"
      ]
     },
     "execution_count": 38,
     "metadata": {},
     "output_type": "execute_result"
    }
   ],
   "source": [
    "print(df['Age'].unique()==0)\n",
    "len(df[df['Age']==0])"
   ]
  },
  {
   "cell_type": "code",
   "execution_count": 39,
   "id": "dc1e0866",
   "metadata": {},
   "outputs": [
    {
     "name": "stdout",
     "output_type": "stream",
     "text": [
      "True\n"
     ]
    }
   ],
   "source": [
    "print(len(df.drop_duplicates())==len(df))"
   ]
  },
  {
   "cell_type": "code",
   "execution_count": 40,
   "id": "263af55a",
   "metadata": {},
   "outputs": [
    {
     "data": {
      "text/html": [
       "<div>\n",
       "<style scoped>\n",
       "    .dataframe tbody tr th:only-of-type {\n",
       "        vertical-align: middle;\n",
       "    }\n",
       "\n",
       "    .dataframe tbody tr th {\n",
       "        vertical-align: top;\n",
       "    }\n",
       "\n",
       "    .dataframe thead th {\n",
       "        text-align: right;\n",
       "    }\n",
       "</style>\n",
       "<table border=\"1\" class=\"dataframe\">\n",
       "  <thead>\n",
       "    <tr style=\"text-align: right;\">\n",
       "      <th></th>\n",
       "      <th>Month</th>\n",
       "      <th>WeekOfMonth</th>\n",
       "      <th>DayOfWeek</th>\n",
       "      <th>Make</th>\n",
       "      <th>AccidentArea</th>\n",
       "      <th>DayOfWeekClaimed</th>\n",
       "      <th>MonthClaimed</th>\n",
       "      <th>WeekOfMonthClaimed</th>\n",
       "      <th>Sex</th>\n",
       "      <th>MaritalStatus</th>\n",
       "      <th>...</th>\n",
       "      <th>AgeOfVehicle</th>\n",
       "      <th>AgeOfPolicyHolder</th>\n",
       "      <th>PoliceReportFiled</th>\n",
       "      <th>WitnessPresent</th>\n",
       "      <th>AgentType</th>\n",
       "      <th>NumberOfSuppliments</th>\n",
       "      <th>AddressChange_Claim</th>\n",
       "      <th>NumberOfCars</th>\n",
       "      <th>Year</th>\n",
       "      <th>BasePolicy</th>\n",
       "    </tr>\n",
       "  </thead>\n",
       "  <tbody>\n",
       "    <tr>\n",
       "      <th>0</th>\n",
       "      <td>Dec</td>\n",
       "      <td>5</td>\n",
       "      <td>Wednesday</td>\n",
       "      <td>Honda</td>\n",
       "      <td>Urban</td>\n",
       "      <td>Tuesday</td>\n",
       "      <td>Jan</td>\n",
       "      <td>1</td>\n",
       "      <td>Female</td>\n",
       "      <td>Single</td>\n",
       "      <td>...</td>\n",
       "      <td>3 years</td>\n",
       "      <td>26 to 30</td>\n",
       "      <td>No</td>\n",
       "      <td>No</td>\n",
       "      <td>External</td>\n",
       "      <td>none</td>\n",
       "      <td>1 year</td>\n",
       "      <td>3 to 4</td>\n",
       "      <td>1994</td>\n",
       "      <td>Liability</td>\n",
       "    </tr>\n",
       "    <tr>\n",
       "      <th>1</th>\n",
       "      <td>Jan</td>\n",
       "      <td>3</td>\n",
       "      <td>Wednesday</td>\n",
       "      <td>Honda</td>\n",
       "      <td>Urban</td>\n",
       "      <td>Monday</td>\n",
       "      <td>Jan</td>\n",
       "      <td>4</td>\n",
       "      <td>Male</td>\n",
       "      <td>Single</td>\n",
       "      <td>...</td>\n",
       "      <td>6 years</td>\n",
       "      <td>31 to 35</td>\n",
       "      <td>Yes</td>\n",
       "      <td>No</td>\n",
       "      <td>External</td>\n",
       "      <td>none</td>\n",
       "      <td>no change</td>\n",
       "      <td>1 vehicle</td>\n",
       "      <td>1994</td>\n",
       "      <td>Collision</td>\n",
       "    </tr>\n",
       "    <tr>\n",
       "      <th>2</th>\n",
       "      <td>Oct</td>\n",
       "      <td>5</td>\n",
       "      <td>Friday</td>\n",
       "      <td>Honda</td>\n",
       "      <td>Urban</td>\n",
       "      <td>Thursday</td>\n",
       "      <td>Nov</td>\n",
       "      <td>2</td>\n",
       "      <td>Male</td>\n",
       "      <td>Married</td>\n",
       "      <td>...</td>\n",
       "      <td>7 years</td>\n",
       "      <td>41 to 50</td>\n",
       "      <td>No</td>\n",
       "      <td>No</td>\n",
       "      <td>External</td>\n",
       "      <td>none</td>\n",
       "      <td>no change</td>\n",
       "      <td>1 vehicle</td>\n",
       "      <td>1994</td>\n",
       "      <td>Collision</td>\n",
       "    </tr>\n",
       "    <tr>\n",
       "      <th>3</th>\n",
       "      <td>Jun</td>\n",
       "      <td>2</td>\n",
       "      <td>Saturday</td>\n",
       "      <td>Toyota</td>\n",
       "      <td>Rural</td>\n",
       "      <td>Friday</td>\n",
       "      <td>Jul</td>\n",
       "      <td>1</td>\n",
       "      <td>Male</td>\n",
       "      <td>Married</td>\n",
       "      <td>...</td>\n",
       "      <td>more than 7</td>\n",
       "      <td>51 to 65</td>\n",
       "      <td>Yes</td>\n",
       "      <td>No</td>\n",
       "      <td>External</td>\n",
       "      <td>more than 5</td>\n",
       "      <td>no change</td>\n",
       "      <td>1 vehicle</td>\n",
       "      <td>1994</td>\n",
       "      <td>Liability</td>\n",
       "    </tr>\n",
       "    <tr>\n",
       "      <th>4</th>\n",
       "      <td>Jan</td>\n",
       "      <td>5</td>\n",
       "      <td>Monday</td>\n",
       "      <td>Honda</td>\n",
       "      <td>Urban</td>\n",
       "      <td>Tuesday</td>\n",
       "      <td>Feb</td>\n",
       "      <td>2</td>\n",
       "      <td>Female</td>\n",
       "      <td>Single</td>\n",
       "      <td>...</td>\n",
       "      <td>5 years</td>\n",
       "      <td>31 to 35</td>\n",
       "      <td>No</td>\n",
       "      <td>No</td>\n",
       "      <td>External</td>\n",
       "      <td>none</td>\n",
       "      <td>no change</td>\n",
       "      <td>1 vehicle</td>\n",
       "      <td>1994</td>\n",
       "      <td>Collision</td>\n",
       "    </tr>\n",
       "    <tr>\n",
       "      <th>...</th>\n",
       "      <td>...</td>\n",
       "      <td>...</td>\n",
       "      <td>...</td>\n",
       "      <td>...</td>\n",
       "      <td>...</td>\n",
       "      <td>...</td>\n",
       "      <td>...</td>\n",
       "      <td>...</td>\n",
       "      <td>...</td>\n",
       "      <td>...</td>\n",
       "      <td>...</td>\n",
       "      <td>...</td>\n",
       "      <td>...</td>\n",
       "      <td>...</td>\n",
       "      <td>...</td>\n",
       "      <td>...</td>\n",
       "      <td>...</td>\n",
       "      <td>...</td>\n",
       "      <td>...</td>\n",
       "      <td>...</td>\n",
       "      <td>...</td>\n",
       "    </tr>\n",
       "    <tr>\n",
       "      <th>15414</th>\n",
       "      <td>Nov</td>\n",
       "      <td>4</td>\n",
       "      <td>Friday</td>\n",
       "      <td>Toyota</td>\n",
       "      <td>Urban</td>\n",
       "      <td>Tuesday</td>\n",
       "      <td>Nov</td>\n",
       "      <td>5</td>\n",
       "      <td>Male</td>\n",
       "      <td>Married</td>\n",
       "      <td>...</td>\n",
       "      <td>6 years</td>\n",
       "      <td>31 to 35</td>\n",
       "      <td>No</td>\n",
       "      <td>No</td>\n",
       "      <td>External</td>\n",
       "      <td>none</td>\n",
       "      <td>no change</td>\n",
       "      <td>1 vehicle</td>\n",
       "      <td>1996</td>\n",
       "      <td>Collision</td>\n",
       "    </tr>\n",
       "    <tr>\n",
       "      <th>15415</th>\n",
       "      <td>Nov</td>\n",
       "      <td>5</td>\n",
       "      <td>Thursday</td>\n",
       "      <td>Pontiac</td>\n",
       "      <td>Urban</td>\n",
       "      <td>Friday</td>\n",
       "      <td>Dec</td>\n",
       "      <td>1</td>\n",
       "      <td>Male</td>\n",
       "      <td>Married</td>\n",
       "      <td>...</td>\n",
       "      <td>6 years</td>\n",
       "      <td>31 to 35</td>\n",
       "      <td>No</td>\n",
       "      <td>No</td>\n",
       "      <td>External</td>\n",
       "      <td>more than 5</td>\n",
       "      <td>no change</td>\n",
       "      <td>3 to 4</td>\n",
       "      <td>1996</td>\n",
       "      <td>Liability</td>\n",
       "    </tr>\n",
       "    <tr>\n",
       "      <th>15416</th>\n",
       "      <td>Nov</td>\n",
       "      <td>5</td>\n",
       "      <td>Thursday</td>\n",
       "      <td>Toyota</td>\n",
       "      <td>Rural</td>\n",
       "      <td>Friday</td>\n",
       "      <td>Dec</td>\n",
       "      <td>1</td>\n",
       "      <td>Male</td>\n",
       "      <td>Single</td>\n",
       "      <td>...</td>\n",
       "      <td>5 years</td>\n",
       "      <td>26 to 30</td>\n",
       "      <td>No</td>\n",
       "      <td>No</td>\n",
       "      <td>External</td>\n",
       "      <td>1 to 2</td>\n",
       "      <td>no change</td>\n",
       "      <td>1 vehicle</td>\n",
       "      <td>1996</td>\n",
       "      <td>Collision</td>\n",
       "    </tr>\n",
       "    <tr>\n",
       "      <th>15417</th>\n",
       "      <td>Dec</td>\n",
       "      <td>1</td>\n",
       "      <td>Monday</td>\n",
       "      <td>Toyota</td>\n",
       "      <td>Urban</td>\n",
       "      <td>Thursday</td>\n",
       "      <td>Dec</td>\n",
       "      <td>2</td>\n",
       "      <td>Female</td>\n",
       "      <td>Married</td>\n",
       "      <td>...</td>\n",
       "      <td>2 years</td>\n",
       "      <td>31 to 35</td>\n",
       "      <td>No</td>\n",
       "      <td>No</td>\n",
       "      <td>External</td>\n",
       "      <td>more than 5</td>\n",
       "      <td>no change</td>\n",
       "      <td>1 vehicle</td>\n",
       "      <td>1996</td>\n",
       "      <td>All Perils</td>\n",
       "    </tr>\n",
       "    <tr>\n",
       "      <th>15418</th>\n",
       "      <td>Dec</td>\n",
       "      <td>2</td>\n",
       "      <td>Wednesday</td>\n",
       "      <td>Toyota</td>\n",
       "      <td>Urban</td>\n",
       "      <td>Thursday</td>\n",
       "      <td>Dec</td>\n",
       "      <td>3</td>\n",
       "      <td>Male</td>\n",
       "      <td>Single</td>\n",
       "      <td>...</td>\n",
       "      <td>5 years</td>\n",
       "      <td>26 to 30</td>\n",
       "      <td>No</td>\n",
       "      <td>No</td>\n",
       "      <td>External</td>\n",
       "      <td>1 to 2</td>\n",
       "      <td>no change</td>\n",
       "      <td>1 vehicle</td>\n",
       "      <td>1996</td>\n",
       "      <td>Collision</td>\n",
       "    </tr>\n",
       "  </tbody>\n",
       "</table>\n",
       "<p>15419 rows × 33 columns</p>\n",
       "</div>"
      ],
      "text/plain": [
       "      Month  WeekOfMonth  DayOfWeek     Make AccidentArea DayOfWeekClaimed  \\\n",
       "0       Dec            5  Wednesday    Honda        Urban          Tuesday   \n",
       "1       Jan            3  Wednesday    Honda        Urban           Monday   \n",
       "2       Oct            5     Friday    Honda        Urban         Thursday   \n",
       "3       Jun            2   Saturday   Toyota        Rural           Friday   \n",
       "4       Jan            5     Monday    Honda        Urban          Tuesday   \n",
       "...     ...          ...        ...      ...          ...              ...   \n",
       "15414   Nov            4     Friday   Toyota        Urban          Tuesday   \n",
       "15415   Nov            5   Thursday  Pontiac        Urban           Friday   \n",
       "15416   Nov            5   Thursday   Toyota        Rural           Friday   \n",
       "15417   Dec            1     Monday   Toyota        Urban         Thursday   \n",
       "15418   Dec            2  Wednesday   Toyota        Urban         Thursday   \n",
       "\n",
       "      MonthClaimed  WeekOfMonthClaimed     Sex MaritalStatus  ...  \\\n",
       "0              Jan                   1  Female        Single  ...   \n",
       "1              Jan                   4    Male        Single  ...   \n",
       "2              Nov                   2    Male       Married  ...   \n",
       "3              Jul                   1    Male       Married  ...   \n",
       "4              Feb                   2  Female        Single  ...   \n",
       "...            ...                 ...     ...           ...  ...   \n",
       "15414          Nov                   5    Male       Married  ...   \n",
       "15415          Dec                   1    Male       Married  ...   \n",
       "15416          Dec                   1    Male        Single  ...   \n",
       "15417          Dec                   2  Female       Married  ...   \n",
       "15418          Dec                   3    Male        Single  ...   \n",
       "\n",
       "       AgeOfVehicle AgeOfPolicyHolder PoliceReportFiled WitnessPresent  \\\n",
       "0           3 years          26 to 30                No             No   \n",
       "1           6 years          31 to 35               Yes             No   \n",
       "2           7 years          41 to 50                No             No   \n",
       "3       more than 7          51 to 65               Yes             No   \n",
       "4           5 years          31 to 35                No             No   \n",
       "...             ...               ...               ...            ...   \n",
       "15414       6 years          31 to 35                No             No   \n",
       "15415       6 years          31 to 35                No             No   \n",
       "15416       5 years          26 to 30                No             No   \n",
       "15417       2 years          31 to 35                No             No   \n",
       "15418       5 years          26 to 30                No             No   \n",
       "\n",
       "      AgentType  NumberOfSuppliments  AddressChange_Claim  NumberOfCars  Year  \\\n",
       "0      External                 none               1 year        3 to 4  1994   \n",
       "1      External                 none            no change     1 vehicle  1994   \n",
       "2      External                 none            no change     1 vehicle  1994   \n",
       "3      External          more than 5            no change     1 vehicle  1994   \n",
       "4      External                 none            no change     1 vehicle  1994   \n",
       "...         ...                  ...                  ...           ...   ...   \n",
       "15414  External                 none            no change     1 vehicle  1996   \n",
       "15415  External          more than 5            no change        3 to 4  1996   \n",
       "15416  External               1 to 2            no change     1 vehicle  1996   \n",
       "15417  External          more than 5            no change     1 vehicle  1996   \n",
       "15418  External               1 to 2            no change     1 vehicle  1996   \n",
       "\n",
       "       BasePolicy  \n",
       "0       Liability  \n",
       "1       Collision  \n",
       "2       Collision  \n",
       "3       Liability  \n",
       "4       Collision  \n",
       "...           ...  \n",
       "15414   Collision  \n",
       "15415   Liability  \n",
       "15416   Collision  \n",
       "15417  All Perils  \n",
       "15418   Collision  \n",
       "\n",
       "[15419 rows x 33 columns]"
      ]
     },
     "execution_count": 40,
     "metadata": {},
     "output_type": "execute_result"
    }
   ],
   "source": [
    "df"
   ]
  },
  {
   "cell_type": "code",
   "execution_count": 41,
   "id": "71ea27f0",
   "metadata": {},
   "outputs": [
    {
     "data": {
      "text/plain": [
       "FraudFound_P          1.000000\n",
       "Age                   0.027595\n",
       "Year                  0.024778\n",
       "PolicyNumber          0.020369\n",
       "Deductible            0.017345\n",
       "WeekOfMonth           0.011872\n",
       "RepNumber             0.007529\n",
       "DriverRating          0.007259\n",
       "WeekOfMonthClaimed    0.005783\n",
       "Name: FraudFound_P, dtype: float64"
      ]
     },
     "execution_count": 41,
     "metadata": {},
     "output_type": "execute_result"
    }
   ],
   "source": [
    "corr_map = df.corr()['FraudFound_P'].abs().sort_values(ascending=False)\n",
    "corr_map"
   ]
  },
  {
   "cell_type": "code",
   "execution_count": 42,
   "id": "e8bc9f1f",
   "metadata": {},
   "outputs": [],
   "source": [
    "X = df[[\"Month\",\"DayOfWeek\",\"Make\",\"AccidentArea\",\"MonthClaimed\",\"DayOfWeekClaimed\",\"Sex\",\"MaritalStatus\",\"Age\",\"PolicyType\",\"VehicleCategory\",\"VehiclePrice\",\"Deductible\",\"DriverRating\",\"Days_Policy_Accident\",\"Days_Policy_Claim\",\"AgeOfVehicle\",\"AgeOfPolicyHolder\",\"PoliceReportFiled\",\"WitnessPresent\",\"NumberOfCars\",\"Year\",\"BasePolicy\",\"FraudFound_P\"]]"
   ]
  },
  {
   "cell_type": "code",
   "execution_count": 43,
   "id": "969def6e",
   "metadata": {},
   "outputs": [],
   "source": [
    "# ss = pd.DataFrame(X)\n",
    "\n",
    "# ss.to_csv (r'C:/Users/DELL/Desktop/car insurance fraud/fianl/final.csv', index = False, header=True)"
   ]
  },
  {
   "cell_type": "markdown",
   "id": "165d0f13",
   "metadata": {},
   "source": [
    "*****Preprocessing*****"
   ]
  },
  {
   "cell_type": "code",
   "execution_count": 44,
   "id": "9246f696",
   "metadata": {},
   "outputs": [
    {
     "data": {
      "text/plain": [
       "array(['Dec', 'Jan', 'Oct', 'Jun', 'Feb', 'Nov', 'Apr', 'Mar', 'Aug',\n",
       "       'Jul', 'May', 'Sep'], dtype=object)"
      ]
     },
     "execution_count": 44,
     "metadata": {},
     "output_type": "execute_result"
    }
   ],
   "source": [
    "df['Month'].unique()"
   ]
  },
  {
   "cell_type": "code",
   "execution_count": 45,
   "id": "d0dbb453",
   "metadata": {},
   "outputs": [],
   "source": [
    "df.loc[df['Month']=='Jan', 'Month'] = 1\n",
    "df.loc[df['Month']=='Feb', 'Month'] = 2\n",
    "df.loc[df['Month']=='Mar', 'Month'] = 3\n",
    "df.loc[df['Month']=='Apr', 'Month'] = 4\n",
    "df.loc[df['Month']=='May', 'Month'] = 5\n",
    "df.loc[df['Month']=='Jun', 'Month'] = 6\n",
    "df.loc[df['Month']=='Jul', 'Month'] = 7\n",
    "df.loc[df['Month']=='Aug', 'Month'] = 8\n",
    "df.loc[df['Month']=='Sep', 'Month'] = 9\n",
    "df.loc[df['Month']=='Oct', 'Month'] = 10\n",
    "df.loc[df['Month']=='Nov', 'Month'] = 11\n",
    "df.loc[df['Month']=='Dec', 'Month'] = 12\n"
   ]
  },
  {
   "cell_type": "code",
   "execution_count": 46,
   "id": "395bc38e",
   "metadata": {},
   "outputs": [
    {
     "data": {
      "text/plain": [
       "array([5, 3, 2, 4, 1], dtype=int64)"
      ]
     },
     "execution_count": 46,
     "metadata": {},
     "output_type": "execute_result"
    }
   ],
   "source": [
    "df['WeekOfMonth'].unique()"
   ]
  },
  {
   "cell_type": "code",
   "execution_count": 47,
   "id": "8483b252",
   "metadata": {},
   "outputs": [
    {
     "data": {
      "text/plain": [
       "array(['Wednesday', 'Friday', 'Saturday', 'Monday', 'Tuesday', 'Sunday',\n",
       "       'Thursday'], dtype=object)"
      ]
     },
     "execution_count": 47,
     "metadata": {},
     "output_type": "execute_result"
    }
   ],
   "source": [
    "df['DayOfWeek'].unique()"
   ]
  },
  {
   "cell_type": "code",
   "execution_count": 48,
   "id": "087d529f",
   "metadata": {},
   "outputs": [],
   "source": [
    "df.loc[df['DayOfWeek']=='Monday', 'DayOfWeek'] = 1\n",
    "df.loc[df['DayOfWeek']=='Tuesday', 'DayOfWeek'] = 2\n",
    "df.loc[df['DayOfWeek']=='Wednesday', 'DayOfWeek'] = 3\n",
    "df.loc[df['DayOfWeek']=='Thursday', 'DayOfWeek'] = 4\n",
    "df.loc[df['DayOfWeek']=='Friday', 'DayOfWeek'] = 5\n",
    "df.loc[df['DayOfWeek']=='Saturday', 'DayOfWeek'] = 6\n",
    "df.loc[df['DayOfWeek']=='Sunday', 'DayOfWeek'] = 7"
   ]
  },
  {
   "cell_type": "code",
   "execution_count": 49,
   "id": "a9bc8736",
   "metadata": {},
   "outputs": [
    {
     "data": {
      "text/plain": [
       "array(['Honda', 'Toyota', 'Ford', 'Mazda', 'Chevrolet', 'Pontiac',\n",
       "       'Accura', 'Dodge', 'Mercury', 'Jaguar', 'Nisson', 'VW', 'Saab',\n",
       "       'Saturn', 'Porche', 'BMW', 'Mecedes', 'Ferrari', 'Lexus'],\n",
       "      dtype=object)"
      ]
     },
     "execution_count": 49,
     "metadata": {},
     "output_type": "execute_result"
    }
   ],
   "source": [
    "df['Make'].unique()"
   ]
  },
  {
   "cell_type": "code",
   "execution_count": 50,
   "id": "21fd95b0",
   "metadata": {},
   "outputs": [],
   "source": [
    "df.loc[df['Make']=='Honda', 'Make'] = 1\n",
    "df.loc[df['Make']=='Toyota', 'Make'] = 2\n",
    "df.loc[df['Make']=='Ford', 'Make'] = 3\n",
    "df.loc[df['Make']=='Mazda', 'Make'] = 4\n",
    "df.loc[df['Make']=='Chevrolet', 'Make'] = 5\n",
    "df.loc[df['Make']=='Pontiac', 'Make'] = 6\n",
    "df.loc[df['Make']=='Accura', 'Make'] = 7\n",
    "df.loc[df['Make']=='Dodge', 'Make'] = 8\n",
    "df.loc[df['Make']=='Mercury', 'Make'] = 9\n",
    "df.loc[df['Make']=='Jaguar', 'Make'] = 10\n",
    "df.loc[df['Make']=='Nisson', 'Make'] = 11\n",
    "df.loc[df['Make']=='VW', 'Make'] = 12\n",
    "df.loc[df['Make']=='Saab', 'Make'] = 13\n",
    "df.loc[df['Make']=='Saturn', 'Make'] = 14\n",
    "df.loc[df['Make']=='Porche', 'Make'] = 15\n",
    "df.loc[df['Make']=='BMW', 'Make'] = 16\n",
    "df.loc[df['Make']=='Mecedes', 'Make'] = 17\n",
    "df.loc[df['Make']=='Ferrari', 'Make'] = 18\n",
    "df.loc[df['Make']=='Lexus', 'Make'] = 19\n",
    "\n"
   ]
  },
  {
   "cell_type": "code",
   "execution_count": 51,
   "id": "716d580f",
   "metadata": {},
   "outputs": [
    {
     "data": {
      "text/plain": [
       "array(['Urban', 'Rural'], dtype=object)"
      ]
     },
     "execution_count": 51,
     "metadata": {},
     "output_type": "execute_result"
    }
   ],
   "source": [
    "df['AccidentArea'].unique()"
   ]
  },
  {
   "cell_type": "code",
   "execution_count": 52,
   "id": "0d97655d",
   "metadata": {},
   "outputs": [],
   "source": [
    "df.loc[df['AccidentArea']=='Urban', 'AccidentArea'] = 1\n",
    "df.loc[df['AccidentArea']=='Rural', 'AccidentArea'] = 2\n",
    " "
   ]
  },
  {
   "cell_type": "code",
   "execution_count": 53,
   "id": "e679fd26",
   "metadata": {},
   "outputs": [
    {
     "data": {
      "text/plain": [
       "array(['Tuesday', 'Monday', 'Thursday', 'Friday', 'Wednesday', 'Saturday',\n",
       "       'Sunday'], dtype=object)"
      ]
     },
     "execution_count": 53,
     "metadata": {},
     "output_type": "execute_result"
    }
   ],
   "source": [
    "df['DayOfWeekClaimed'].unique()"
   ]
  },
  {
   "cell_type": "code",
   "execution_count": 54,
   "id": "7162b49e",
   "metadata": {},
   "outputs": [],
   "source": [
    "df.loc[df['DayOfWeekClaimed']=='Monday', 'DayOfWeekClaimed'] = 1\n",
    "df.loc[df['DayOfWeekClaimed']=='Tuesday', 'DayOfWeekClaimed'] = 2\n",
    "df.loc[df['DayOfWeekClaimed']=='Wednesday', 'DayOfWeekClaimed'] = 3\n",
    "df.loc[df['DayOfWeekClaimed']=='Thursday', 'DayOfWeekClaimed'] = 4\n",
    "df.loc[df['DayOfWeekClaimed']=='Friday', 'DayOfWeekClaimed'] = 5\n",
    "df.loc[df['DayOfWeekClaimed']=='Saturday', 'DayOfWeekClaimed'] = 6\n",
    "df.loc[df['DayOfWeekClaimed']=='Sunday', 'DayOfWeekClaimed'] = 7\n"
   ]
  },
  {
   "cell_type": "code",
   "execution_count": 55,
   "id": "3f7bfa0a",
   "metadata": {},
   "outputs": [
    {
     "data": {
      "text/plain": [
       "array(['Jan', 'Nov', 'Jul', 'Feb', 'Mar', 'Dec', 'Apr', 'Aug', 'May',\n",
       "       'Jun', 'Sep', 'Oct'], dtype=object)"
      ]
     },
     "execution_count": 55,
     "metadata": {},
     "output_type": "execute_result"
    }
   ],
   "source": [
    "df['MonthClaimed'].unique()"
   ]
  },
  {
   "cell_type": "code",
   "execution_count": 56,
   "id": "50fd56cd",
   "metadata": {},
   "outputs": [],
   "source": [
    "df.loc[df['MonthClaimed']=='Jan', 'MonthClaimed'] = 1\n",
    "df.loc[df['MonthClaimed']=='Feb', 'MonthClaimed'] = 2\n",
    "df.loc[df['MonthClaimed']=='Mar', 'MonthClaimed'] = 3\n",
    "df.loc[df['MonthClaimed']=='Apr', 'MonthClaimed'] = 4\n",
    "df.loc[df['MonthClaimed']=='May', 'MonthClaimed'] = 5\n",
    "df.loc[df['MonthClaimed']=='Jun', 'MonthClaimed'] = 6\n",
    "df.loc[df['MonthClaimed']=='Jul', 'MonthClaimed'] = 7\n",
    "df.loc[df['MonthClaimed']=='Aug', 'MonthClaimed'] = 8\n",
    "df.loc[df['MonthClaimed']=='Sep', 'MonthClaimed'] = 9\n",
    "df.loc[df['MonthClaimed']=='Oct', 'MonthClaimed'] = 10\n",
    "df.loc[df['MonthClaimed']=='Nov', 'MonthClaimed'] = 11\n",
    "df.loc[df['MonthClaimed']=='Dec', 'MonthClaimed'] = 12\n",
    "\n",
    "\n"
   ]
  },
  {
   "cell_type": "code",
   "execution_count": 57,
   "id": "8535c5db",
   "metadata": {},
   "outputs": [
    {
     "data": {
      "text/plain": [
       "array([1, 4, 2, 3, 5], dtype=int64)"
      ]
     },
     "execution_count": 57,
     "metadata": {},
     "output_type": "execute_result"
    }
   ],
   "source": [
    "df['WeekOfMonthClaimed'].unique()"
   ]
  },
  {
   "cell_type": "code",
   "execution_count": 58,
   "id": "70cc814d",
   "metadata": {},
   "outputs": [
    {
     "data": {
      "text/plain": [
       "array(['Female', 'Male'], dtype=object)"
      ]
     },
     "execution_count": 58,
     "metadata": {},
     "output_type": "execute_result"
    }
   ],
   "source": [
    "df['Sex'].unique()"
   ]
  },
  {
   "cell_type": "code",
   "execution_count": 59,
   "id": "6e66d455",
   "metadata": {},
   "outputs": [],
   "source": [
    "df.loc[df['Sex']=='Male', 'Sex'] = 1\n",
    "df.loc[df['Sex']=='Female', 'Sex'] = 2\n",
    " "
   ]
  },
  {
   "cell_type": "code",
   "execution_count": 60,
   "id": "67590293",
   "metadata": {},
   "outputs": [
    {
     "data": {
      "text/plain": [
       "array(['Single', 'Married', 'Widow', 'Divorced'], dtype=object)"
      ]
     },
     "execution_count": 60,
     "metadata": {},
     "output_type": "execute_result"
    }
   ],
   "source": [
    "df['MaritalStatus'].unique()"
   ]
  },
  {
   "cell_type": "code",
   "execution_count": 61,
   "id": "096938ab",
   "metadata": {},
   "outputs": [],
   "source": [
    "df.loc[df['MaritalStatus']=='Single', 'MaritalStatus'] = 1\n",
    "df.loc[df['MaritalStatus']=='Married', 'MaritalStatus'] = 2\n",
    "df.loc[df['MaritalStatus']=='Widow', 'MaritalStatus'] = 3\n",
    "df.loc[df['MaritalStatus']=='Divorced', 'MaritalStatus'] = 4\n",
    " "
   ]
  },
  {
   "cell_type": "code",
   "execution_count": 62,
   "id": "783d8ad7",
   "metadata": {},
   "outputs": [
    {
     "data": {
      "text/plain": [
       "array([21, 34, 47, 65, 27, 20, 36, 16, 30, 42, 71, 52, 28, 61, 38, 41, 32,\n",
       "       40, 63, 31, 45, 60, 39, 55, 35, 44, 72, 29, 37, 59, 49, 50, 26, 48,\n",
       "       64, 33, 74, 23, 25, 56, 68, 18, 51, 22, 53, 46, 43, 57, 54, 69, 67,\n",
       "       19, 78, 77, 75, 80, 58, 73, 24, 76, 62, 79, 70, 17, 66],\n",
       "      dtype=int64)"
      ]
     },
     "execution_count": 62,
     "metadata": {},
     "output_type": "execute_result"
    }
   ],
   "source": [
    "df['Age'].unique()"
   ]
  },
  {
   "cell_type": "code",
   "execution_count": 63,
   "id": "8528e68a",
   "metadata": {},
   "outputs": [
    {
     "data": {
      "text/plain": [
       "array(['Policy Holder', 'Third Party'], dtype=object)"
      ]
     },
     "execution_count": 63,
     "metadata": {},
     "output_type": "execute_result"
    }
   ],
   "source": [
    "df['Fault'].unique()"
   ]
  },
  {
   "cell_type": "code",
   "execution_count": 64,
   "id": "9c3816aa",
   "metadata": {},
   "outputs": [],
   "source": [
    "df.loc[df['Fault']=='Policy Holder', 'Fault'] = 1\n",
    "df.loc[df['Fault']=='Third Party', 'Fault'] = 2\n",
    " "
   ]
  },
  {
   "cell_type": "code",
   "execution_count": 65,
   "id": "bff4bae0",
   "metadata": {},
   "outputs": [
    {
     "data": {
      "text/plain": [
       "array(['Sport - Liability', 'Sport - Collision', 'Sedan - Liability',\n",
       "       'Utility - All Perils', 'Sedan - All Perils', 'Sedan - Collision',\n",
       "       'Utility - Collision', 'Utility - Liability', 'Sport - All Perils'],\n",
       "      dtype=object)"
      ]
     },
     "execution_count": 65,
     "metadata": {},
     "output_type": "execute_result"
    }
   ],
   "source": [
    "df['PolicyType'].unique()"
   ]
  },
  {
   "cell_type": "code",
   "execution_count": 66,
   "id": "9c3e7259",
   "metadata": {},
   "outputs": [],
   "source": [
    "\n",
    "df.loc[df['PolicyType']=='Sport - Liability', 'PolicyType'] = 1\n",
    "df.loc[df['PolicyType']=='Sport - Collision', 'PolicyType'] = 2\n",
    "df.loc[df['PolicyType']=='Sedan - Liability', 'PolicyType'] = 3\n",
    "df.loc[df['PolicyType']=='Utility - All Perils', 'PolicyType'] = 4\n",
    "df.loc[df['PolicyType']=='Sedan - All Perils', 'PolicyType'] = 5\n",
    "df.loc[df['PolicyType']=='Sedan - Collision', 'PolicyType'] = 6\n",
    "df.loc[df['PolicyType']=='Utility - Collision', 'PolicyType'] = 7\n",
    "df.loc[df['PolicyType']=='Utility - Liability', 'PolicyType'] = 8\n",
    "df.loc[df['PolicyType']=='Sport - All Perils', 'PolicyType'] = 9\n"
   ]
  },
  {
   "cell_type": "code",
   "execution_count": 67,
   "id": "9eaa8a37",
   "metadata": {},
   "outputs": [
    {
     "data": {
      "text/plain": [
       "array(['Sport', 'Utility', 'Sedan'], dtype=object)"
      ]
     },
     "execution_count": 67,
     "metadata": {},
     "output_type": "execute_result"
    }
   ],
   "source": [
    "df['VehicleCategory'].unique()"
   ]
  },
  {
   "cell_type": "code",
   "execution_count": 68,
   "id": "43c24c5b",
   "metadata": {},
   "outputs": [],
   "source": [
    "df.loc[df['VehicleCategory']=='Sport', 'VehicleCategory'] = 1\n",
    "df.loc[df['VehicleCategory']=='Utility', 'VehicleCategory'] = 2\n",
    "df.loc[df['VehicleCategory']=='Sedan', 'VehicleCategory'] = 3\n",
    " "
   ]
  },
  {
   "cell_type": "code",
   "execution_count": 69,
   "id": "ef79ed92",
   "metadata": {},
   "outputs": [
    {
     "data": {
      "text/plain": [
       "array(['more than 69000', '20000 to 29000', '30000 to 39000',\n",
       "       'less than 20000', '40000 to 59000', '60000 to 69000'],\n",
       "      dtype=object)"
      ]
     },
     "execution_count": 69,
     "metadata": {},
     "output_type": "execute_result"
    }
   ],
   "source": [
    "df['VehiclePrice'].unique()"
   ]
  },
  {
   "cell_type": "code",
   "execution_count": 70,
   "id": "6d2740ef",
   "metadata": {},
   "outputs": [],
   "source": [
    "df.loc[df['VehiclePrice']=='more than 69000', 'VehiclePrice'] = 1\n",
    "df.loc[df['VehiclePrice']=='20000 to 29000', 'VehiclePrice'] = 2\n",
    "df.loc[df['VehiclePrice']=='30000 to 39000', 'VehiclePrice'] = 3\n",
    "df.loc[df['VehiclePrice']=='less than 20000', 'VehiclePrice'] = 4\n",
    "df.loc[df['VehiclePrice']=='40000 to 59000', 'VehiclePrice'] = 5\n",
    "df.loc[df['VehiclePrice']=='60000 to 69000', 'VehiclePrice'] = 6"
   ]
  },
  {
   "cell_type": "code",
   "execution_count": 71,
   "id": "73a237da",
   "metadata": {},
   "outputs": [
    {
     "data": {
      "text/plain": [
       "array([0, 1], dtype=int64)"
      ]
     },
     "execution_count": 71,
     "metadata": {},
     "output_type": "execute_result"
    }
   ],
   "source": [
    "df['FraudFound_P'].unique()"
   ]
  },
  {
   "cell_type": "code",
   "execution_count": 72,
   "id": "48f2be56",
   "metadata": {},
   "outputs": [
    {
     "data": {
      "text/plain": [
       "array([    1,     2,     3, ..., 15418, 15419, 15420], dtype=int64)"
      ]
     },
     "execution_count": 72,
     "metadata": {},
     "output_type": "execute_result"
    }
   ],
   "source": [
    "df['PolicyNumber'].unique()"
   ]
  },
  {
   "cell_type": "code",
   "execution_count": 73,
   "id": "13a3179a",
   "metadata": {},
   "outputs": [
    {
     "data": {
      "text/plain": [
       "array([12, 15,  7,  4,  3, 14,  1, 13, 11, 16,  6,  2,  8,  5,  9, 10],\n",
       "      dtype=int64)"
      ]
     },
     "execution_count": 73,
     "metadata": {},
     "output_type": "execute_result"
    }
   ],
   "source": [
    "df['RepNumber'].unique()"
   ]
  },
  {
   "cell_type": "code",
   "execution_count": 74,
   "id": "929c9763",
   "metadata": {},
   "outputs": [
    {
     "data": {
      "text/plain": [
       "array([300, 400, 500, 700], dtype=int64)"
      ]
     },
     "execution_count": 74,
     "metadata": {},
     "output_type": "execute_result"
    }
   ],
   "source": [
    "df['Deductible'].unique()"
   ]
  },
  {
   "cell_type": "code",
   "execution_count": 75,
   "id": "96c63692",
   "metadata": {},
   "outputs": [
    {
     "data": {
      "text/plain": [
       "array([1, 4, 3, 2], dtype=int64)"
      ]
     },
     "execution_count": 75,
     "metadata": {},
     "output_type": "execute_result"
    }
   ],
   "source": [
    "df['DriverRating'].unique()"
   ]
  },
  {
   "cell_type": "code",
   "execution_count": 76,
   "id": "d772bd9f",
   "metadata": {},
   "outputs": [
    {
     "data": {
      "text/plain": [
       "array(['more than 30', '15 to 30', 'none', '1 to 7', '8 to 15'],\n",
       "      dtype=object)"
      ]
     },
     "execution_count": 76,
     "metadata": {},
     "output_type": "execute_result"
    }
   ],
   "source": [
    "df['Days_Policy_Accident'].unique()"
   ]
  },
  {
   "cell_type": "code",
   "execution_count": 77,
   "id": "c7c464ae",
   "metadata": {},
   "outputs": [],
   "source": [
    "df.loc[df['Days_Policy_Accident']=='more than 30', 'Days_Policy_Accident'] = 1\n",
    "df.loc[df['Days_Policy_Accident']=='15 to 30', 'Days_Policy_Accident'] = 2\n",
    "df.loc[df['Days_Policy_Accident']=='1 to 7', 'Days_Policy_Accident'] = 3\n",
    "df.loc[df['Days_Policy_Accident']=='8 to 15', 'Days_Policy_Accident'] = 4\n",
    "df.loc[df['Days_Policy_Accident']=='none', 'Days_Policy_Accident'] = 5"
   ]
  },
  {
   "cell_type": "code",
   "execution_count": 78,
   "id": "051fe013",
   "metadata": {},
   "outputs": [
    {
     "data": {
      "text/plain": [
       "array(['more than 30', '15 to 30', '8 to 15'], dtype=object)"
      ]
     },
     "execution_count": 78,
     "metadata": {},
     "output_type": "execute_result"
    }
   ],
   "source": [
    "df['Days_Policy_Claim'].unique()"
   ]
  },
  {
   "cell_type": "code",
   "execution_count": 79,
   "id": "e85add1b",
   "metadata": {},
   "outputs": [],
   "source": [
    "df.loc[df['Days_Policy_Claim']=='more than 30', 'Days_Policy_Claim'] = 1\n",
    "df.loc[df['Days_Policy_Claim']=='15 to 30', 'Days_Policy_Claim'] = 2\n",
    "df.loc[df['Days_Policy_Claim']=='none', 'Days_Policy_Claim'] = 3\n",
    "df.loc[df['Days_Policy_Claim']=='8 to 15', 'Days_Policy_Claim'] = 4\n"
   ]
  },
  {
   "cell_type": "code",
   "execution_count": 80,
   "id": "09ab55ce",
   "metadata": {},
   "outputs": [
    {
     "data": {
      "text/plain": [
       "array(['none', '1', '2 to 4', 'more than 4'], dtype=object)"
      ]
     },
     "execution_count": 80,
     "metadata": {},
     "output_type": "execute_result"
    }
   ],
   "source": [
    "df['PastNumberOfClaims'].unique()"
   ]
  },
  {
   "cell_type": "code",
   "execution_count": 81,
   "id": "185569c7",
   "metadata": {},
   "outputs": [],
   "source": [
    "df.loc[df['PastNumberOfClaims']=='more than 4', 'PastNumberOfClaims'] = 1\n",
    "df.loc[df['PastNumberOfClaims']=='2 to 4', 'PastNumberOfClaims'] = 2\n",
    "df.loc[df['PastNumberOfClaims']=='none', 'PastNumberOfClaims'] = 3\n",
    "df.loc[df['PastNumberOfClaims']=='1', 'PastNumberOfClaims'] = 4\n"
   ]
  },
  {
   "cell_type": "code",
   "execution_count": 82,
   "id": "f2e9f8e9",
   "metadata": {},
   "outputs": [
    {
     "data": {
      "text/plain": [
       "array(['3 years', '6 years', '7 years', 'more than 7', '5 years', 'new',\n",
       "       '4 years', '2 years'], dtype=object)"
      ]
     },
     "execution_count": 82,
     "metadata": {},
     "output_type": "execute_result"
    }
   ],
   "source": [
    "df['AgeOfVehicle'].unique()"
   ]
  },
  {
   "cell_type": "code",
   "execution_count": 83,
   "id": "2a69fc0b",
   "metadata": {},
   "outputs": [],
   "source": [
    "\n",
    "df.loc[df['AgeOfVehicle']=='3 years', 'AgeOfVehicle'] = 1\n",
    "df.loc[df['AgeOfVehicle']=='6 years', 'AgeOfVehicle'] = 2\n",
    "df.loc[df['AgeOfVehicle']=='7 years', 'AgeOfVehicle'] = 3\n",
    "df.loc[df['AgeOfVehicle']=='more than 7', 'AgeOfVehicle'] = 4\n",
    "df.loc[df['AgeOfVehicle']=='5 years', 'AgeOfVehicle'] = 5\n",
    "df.loc[df['AgeOfVehicle']=='new', 'AgeOfVehicle'] = 6\n",
    "df.loc[df['AgeOfVehicle']=='4 years', 'AgeOfVehicle'] = 7\n",
    "df.loc[df['AgeOfVehicle']=='2 years', 'AgeOfVehicle'] = 8\n"
   ]
  },
  {
   "cell_type": "code",
   "execution_count": 84,
   "id": "072a638e",
   "metadata": {},
   "outputs": [
    {
     "data": {
      "text/plain": [
       "array(['26 to 30', '31 to 35', '41 to 50', '51 to 65', '21 to 25',\n",
       "       '36 to 40', '16 to 17', 'over 65', '18 to 20'], dtype=object)"
      ]
     },
     "execution_count": 84,
     "metadata": {},
     "output_type": "execute_result"
    }
   ],
   "source": [
    "df['AgeOfPolicyHolder'].unique()"
   ]
  },
  {
   "cell_type": "code",
   "execution_count": 85,
   "id": "3df22b84",
   "metadata": {},
   "outputs": [],
   "source": [
    "\n",
    "df.loc[df['AgeOfPolicyHolder']=='26 to 30', 'AgeOfPolicyHolder'] = 1\n",
    "df.loc[df['AgeOfPolicyHolder']=='31 to 35', 'AgeOfPolicyHolder'] = 2\n",
    "df.loc[df['AgeOfPolicyHolder']=='41 to 50', 'AgeOfPolicyHolder'] = 3\n",
    "df.loc[df['AgeOfPolicyHolder']=='51 to 65', 'AgeOfPolicyHolder'] = 4\n",
    "df.loc[df['AgeOfPolicyHolder']=='21 to 25', 'AgeOfPolicyHolder'] = 5\n",
    "df.loc[df['AgeOfPolicyHolder']=='36 to 40', 'AgeOfPolicyHolder'] = 6\n",
    "df.loc[df['AgeOfPolicyHolder']=='16 to 17', 'AgeOfPolicyHolder'] = 7\n",
    "df.loc[df['AgeOfPolicyHolder']=='over 65', 'AgeOfPolicyHolder'] = 8\n",
    "df.loc[df['AgeOfPolicyHolder']=='18 to 20', 'AgeOfPolicyHolder'] = 9"
   ]
  },
  {
   "cell_type": "code",
   "execution_count": 86,
   "id": "63b9e27b",
   "metadata": {},
   "outputs": [
    {
     "data": {
      "text/plain": [
       "array(['No', 'Yes'], dtype=object)"
      ]
     },
     "execution_count": 86,
     "metadata": {},
     "output_type": "execute_result"
    }
   ],
   "source": [
    "df['PoliceReportFiled'].unique()"
   ]
  },
  {
   "cell_type": "code",
   "execution_count": 87,
   "id": "3ffe3e01",
   "metadata": {},
   "outputs": [],
   "source": [
    "\n",
    "df.loc[df['PoliceReportFiled']=='Yes', 'PoliceReportFiled'] = 1\n",
    "df.loc[df['PoliceReportFiled']=='No', 'PoliceReportFiled'] = 2"
   ]
  },
  {
   "cell_type": "code",
   "execution_count": 88,
   "id": "85b893e0",
   "metadata": {},
   "outputs": [
    {
     "data": {
      "text/plain": [
       "array(['No', 'Yes'], dtype=object)"
      ]
     },
     "execution_count": 88,
     "metadata": {},
     "output_type": "execute_result"
    }
   ],
   "source": [
    "df['WitnessPresent'].unique()"
   ]
  },
  {
   "cell_type": "code",
   "execution_count": 89,
   "id": "4874d2d3",
   "metadata": {},
   "outputs": [],
   "source": [
    "\n",
    "df.loc[df['WitnessPresent']=='Yes', 'WitnessPresent'] = 1\n",
    "df.loc[df['WitnessPresent']=='No', 'WitnessPresent'] = 2"
   ]
  },
  {
   "cell_type": "code",
   "execution_count": 90,
   "id": "6697419c",
   "metadata": {},
   "outputs": [
    {
     "data": {
      "text/plain": [
       "array(['External', 'Internal'], dtype=object)"
      ]
     },
     "execution_count": 90,
     "metadata": {},
     "output_type": "execute_result"
    }
   ],
   "source": [
    "df['AgentType'].unique()"
   ]
  },
  {
   "cell_type": "code",
   "execution_count": 91,
   "id": "6a93d217",
   "metadata": {},
   "outputs": [],
   "source": [
    "df.loc[df['AgentType']=='Internal', 'AgentType'] = 1\n",
    "df.loc[df['AgentType']=='External', 'AgentType'] = 2"
   ]
  },
  {
   "cell_type": "code",
   "execution_count": 92,
   "id": "79ef0bf5",
   "metadata": {},
   "outputs": [
    {
     "data": {
      "text/plain": [
       "array(['none', 'more than 5', '3 to 5', '1 to 2'], dtype=object)"
      ]
     },
     "execution_count": 92,
     "metadata": {},
     "output_type": "execute_result"
    }
   ],
   "source": [
    "df['NumberOfSuppliments'].unique()"
   ]
  },
  {
   "cell_type": "code",
   "execution_count": 93,
   "id": "6624b1b8",
   "metadata": {},
   "outputs": [],
   "source": [
    "df.loc[df['NumberOfSuppliments']=='none', 'NumberOfSuppliments'] = 1\n",
    "df.loc[df['NumberOfSuppliments']=='more than 5', 'NumberOfSuppliments'] = 2\n",
    "df.loc[df['NumberOfSuppliments']=='3 to 5', 'NumberOfSuppliments'] = 3\n",
    "df.loc[df['NumberOfSuppliments']=='1 to 2', 'NumberOfSuppliments'] = 4\n"
   ]
  },
  {
   "cell_type": "code",
   "execution_count": 94,
   "id": "9f2305cc",
   "metadata": {},
   "outputs": [
    {
     "data": {
      "text/plain": [
       "array(['1 year', 'no change', '4 to 8 years', '2 to 3 years',\n",
       "       'under 6 months'], dtype=object)"
      ]
     },
     "execution_count": 94,
     "metadata": {},
     "output_type": "execute_result"
    }
   ],
   "source": [
    "df['AddressChange_Claim'].unique()"
   ]
  },
  {
   "cell_type": "code",
   "execution_count": 95,
   "id": "81193081",
   "metadata": {},
   "outputs": [],
   "source": [
    "df.loc[df['AddressChange_Claim']=='1 year', 'AddressChange_Claim'] = 1\n",
    "df.loc[df['AddressChange_Claim']=='no change', 'AddressChange_Claim'] = 2\n",
    "df.loc[df['AddressChange_Claim']=='4 to 8 years', 'AddressChange_Claim'] = 3\n",
    "df.loc[df['AddressChange_Claim']=='2 to 3 years', 'AddressChange_Claim'] = 4\n",
    "df.loc[df['AddressChange_Claim']=='under 6 months', 'AddressChange_Claim'] = 5"
   ]
  },
  {
   "cell_type": "code",
   "execution_count": 96,
   "id": "e525adfd",
   "metadata": {},
   "outputs": [
    {
     "data": {
      "text/plain": [
       "array(['3 to 4', '1 vehicle', '2 vehicles', '5 to 8', 'more than 8'],\n",
       "      dtype=object)"
      ]
     },
     "execution_count": 96,
     "metadata": {},
     "output_type": "execute_result"
    }
   ],
   "source": [
    "df['NumberOfCars'].unique()"
   ]
  },
  {
   "cell_type": "code",
   "execution_count": 97,
   "id": "b22919d1",
   "metadata": {},
   "outputs": [],
   "source": [
    "df.loc[df['NumberOfCars']=='3 to 4', 'NumberOfCars'] = 1\n",
    "df.loc[df['NumberOfCars']=='1 vehicle', 'NumberOfCars'] = 2\n",
    "df.loc[df['NumberOfCars']=='2 vehicles', 'NumberOfCars'] = 3\n",
    "df.loc[df['NumberOfCars']=='5 to 8', 'NumberOfCars'] = 4\n",
    "df.loc[df['NumberOfCars']=='more than 8', 'NumberOfCars'] = 5"
   ]
  },
  {
   "cell_type": "code",
   "execution_count": 98,
   "id": "6a91b2b6",
   "metadata": {},
   "outputs": [
    {
     "data": {
      "text/plain": [
       "array([1994, 1995, 1996], dtype=int64)"
      ]
     },
     "execution_count": 98,
     "metadata": {},
     "output_type": "execute_result"
    }
   ],
   "source": [
    "df['Year'].unique()"
   ]
  },
  {
   "cell_type": "code",
   "execution_count": 99,
   "id": "df91c7d3",
   "metadata": {},
   "outputs": [],
   "source": [
    "df.loc[df['Year']=='1994', 'Year'] = 1\n",
    "df.loc[df['Year']=='1994', 'Year'] = 2\n",
    "df.loc[df['Year']=='1994', 'Year'] = 3"
   ]
  },
  {
   "cell_type": "code",
   "execution_count": 100,
   "id": "33b1fa04",
   "metadata": {},
   "outputs": [
    {
     "data": {
      "text/plain": [
       "array(['Liability', 'Collision', 'All Perils'], dtype=object)"
      ]
     },
     "execution_count": 100,
     "metadata": {},
     "output_type": "execute_result"
    }
   ],
   "source": [
    "df['BasePolicy'].unique()"
   ]
  },
  {
   "cell_type": "code",
   "execution_count": 101,
   "id": "7942848f",
   "metadata": {},
   "outputs": [],
   "source": [
    "df.loc[df['BasePolicy']=='Collision', 'BasePolicy'] = 1\n",
    "df.loc[df['BasePolicy']=='Liability', 'BasePolicy'] = 2\n",
    "df.loc[df['BasePolicy']=='All Perils', 'BasePolicy'] = 3"
   ]
  },
  {
   "cell_type": "markdown",
   "id": "bf754645",
   "metadata": {},
   "source": [
    "***let's explore the simple piercon correlation of all features regarding the target value***"
   ]
  },
  {
   "cell_type": "code",
   "execution_count": 102,
   "id": "a7958403",
   "metadata": {},
   "outputs": [
    {
     "data": {
      "text/plain": [
       "FraudFound_P          1.000000\n",
       "Age                   0.027595\n",
       "Year                  0.024778\n",
       "PolicyNumber          0.020369\n",
       "Deductible            0.017345\n",
       "WeekOfMonth           0.011872\n",
       "RepNumber             0.007529\n",
       "DriverRating          0.007259\n",
       "WeekOfMonthClaimed    0.005783\n",
       "Name: FraudFound_P, dtype: float64"
      ]
     },
     "execution_count": 102,
     "metadata": {},
     "output_type": "execute_result"
    }
   ],
   "source": [
    "corr_map = df.corr()['FraudFound_P'].abs().sort_values(ascending=False)\n",
    "corr_map"
   ]
  },
  {
   "cell_type": "code",
   "execution_count": 103,
   "id": "8e0c4ac3",
   "metadata": {},
   "outputs": [],
   "source": [
    "from sklearn.utils import resample\n"
   ]
  },
  {
   "cell_type": "code",
   "execution_count": 104,
   "id": "b136c450",
   "metadata": {},
   "outputs": [
    {
     "data": {
      "text/plain": [
       "0    14496\n",
       "1    14496\n",
       "Name: FraudFound_P, dtype: int64"
      ]
     },
     "execution_count": 104,
     "metadata": {},
     "output_type": "execute_result"
    }
   ],
   "source": [
    "n = df.FraudFound_P.value_counts()[0]\n",
    "\n",
    "df_majority = df[df.FraudFound_P==0]\n",
    "df_minority = df[df.FraudFound_P==1]\n",
    "\n",
    "df_minority_upsampled = resample(df_minority,replace=True,n_samples = n,random_state=42)\n",
    "\n",
    "df = pd.concat([df_majority,df_minority_upsampled])\n",
    "df.FraudFound_P.value_counts()"
   ]
  },
  {
   "cell_type": "code",
   "execution_count": 105,
   "id": "f14ec75e",
   "metadata": {},
   "outputs": [],
   "source": [
    "X = df[[\"Month\",\"Make\",\"AccidentArea\",\"MonthClaimed\",\"Sex\",\"Age\",\"PolicyType\",\"VehicleCategory\",\"VehiclePrice\",\"Deductible\",\"Days_Policy_Accident\",\"Days_Policy_Claim\",\"AgeOfVehicle\",\"PoliceReportFiled\",\"WitnessPresent\",\"NumberOfCars\",\"Year\",\"BasePolicy\"]]"
   ]
  },
  {
   "cell_type": "code",
   "execution_count": 106,
   "id": "69a25069",
   "metadata": {},
   "outputs": [
    {
     "data": {
      "text/html": [
       "<div>\n",
       "<style scoped>\n",
       "    .dataframe tbody tr th:only-of-type {\n",
       "        vertical-align: middle;\n",
       "    }\n",
       "\n",
       "    .dataframe tbody tr th {\n",
       "        vertical-align: top;\n",
       "    }\n",
       "\n",
       "    .dataframe thead th {\n",
       "        text-align: right;\n",
       "    }\n",
       "</style>\n",
       "<table border=\"1\" class=\"dataframe\">\n",
       "  <thead>\n",
       "    <tr style=\"text-align: right;\">\n",
       "      <th></th>\n",
       "      <th>Month</th>\n",
       "      <th>Make</th>\n",
       "      <th>AccidentArea</th>\n",
       "      <th>MonthClaimed</th>\n",
       "      <th>Sex</th>\n",
       "      <th>Age</th>\n",
       "      <th>PolicyType</th>\n",
       "      <th>VehicleCategory</th>\n",
       "      <th>VehiclePrice</th>\n",
       "      <th>Deductible</th>\n",
       "      <th>Days_Policy_Accident</th>\n",
       "      <th>Days_Policy_Claim</th>\n",
       "      <th>AgeOfVehicle</th>\n",
       "      <th>PoliceReportFiled</th>\n",
       "      <th>WitnessPresent</th>\n",
       "      <th>NumberOfCars</th>\n",
       "      <th>Year</th>\n",
       "      <th>BasePolicy</th>\n",
       "    </tr>\n",
       "  </thead>\n",
       "  <tbody>\n",
       "    <tr>\n",
       "      <th>0</th>\n",
       "      <td>12</td>\n",
       "      <td>1</td>\n",
       "      <td>1</td>\n",
       "      <td>1</td>\n",
       "      <td>2</td>\n",
       "      <td>21</td>\n",
       "      <td>1</td>\n",
       "      <td>1</td>\n",
       "      <td>1</td>\n",
       "      <td>300</td>\n",
       "      <td>1</td>\n",
       "      <td>1</td>\n",
       "      <td>1</td>\n",
       "      <td>2</td>\n",
       "      <td>2</td>\n",
       "      <td>1</td>\n",
       "      <td>1994</td>\n",
       "      <td>2</td>\n",
       "    </tr>\n",
       "    <tr>\n",
       "      <th>1</th>\n",
       "      <td>1</td>\n",
       "      <td>1</td>\n",
       "      <td>1</td>\n",
       "      <td>1</td>\n",
       "      <td>1</td>\n",
       "      <td>34</td>\n",
       "      <td>2</td>\n",
       "      <td>1</td>\n",
       "      <td>1</td>\n",
       "      <td>400</td>\n",
       "      <td>1</td>\n",
       "      <td>1</td>\n",
       "      <td>2</td>\n",
       "      <td>1</td>\n",
       "      <td>2</td>\n",
       "      <td>2</td>\n",
       "      <td>1994</td>\n",
       "      <td>1</td>\n",
       "    </tr>\n",
       "    <tr>\n",
       "      <th>2</th>\n",
       "      <td>10</td>\n",
       "      <td>1</td>\n",
       "      <td>1</td>\n",
       "      <td>11</td>\n",
       "      <td>1</td>\n",
       "      <td>47</td>\n",
       "      <td>2</td>\n",
       "      <td>1</td>\n",
       "      <td>1</td>\n",
       "      <td>400</td>\n",
       "      <td>1</td>\n",
       "      <td>1</td>\n",
       "      <td>3</td>\n",
       "      <td>2</td>\n",
       "      <td>2</td>\n",
       "      <td>2</td>\n",
       "      <td>1994</td>\n",
       "      <td>1</td>\n",
       "    </tr>\n",
       "    <tr>\n",
       "      <th>3</th>\n",
       "      <td>6</td>\n",
       "      <td>2</td>\n",
       "      <td>2</td>\n",
       "      <td>7</td>\n",
       "      <td>1</td>\n",
       "      <td>65</td>\n",
       "      <td>3</td>\n",
       "      <td>1</td>\n",
       "      <td>2</td>\n",
       "      <td>400</td>\n",
       "      <td>1</td>\n",
       "      <td>1</td>\n",
       "      <td>4</td>\n",
       "      <td>1</td>\n",
       "      <td>2</td>\n",
       "      <td>2</td>\n",
       "      <td>1994</td>\n",
       "      <td>2</td>\n",
       "    </tr>\n",
       "    <tr>\n",
       "      <th>4</th>\n",
       "      <td>1</td>\n",
       "      <td>1</td>\n",
       "      <td>1</td>\n",
       "      <td>2</td>\n",
       "      <td>2</td>\n",
       "      <td>27</td>\n",
       "      <td>2</td>\n",
       "      <td>1</td>\n",
       "      <td>1</td>\n",
       "      <td>400</td>\n",
       "      <td>1</td>\n",
       "      <td>1</td>\n",
       "      <td>5</td>\n",
       "      <td>2</td>\n",
       "      <td>2</td>\n",
       "      <td>2</td>\n",
       "      <td>1994</td>\n",
       "      <td>1</td>\n",
       "    </tr>\n",
       "    <tr>\n",
       "      <th>...</th>\n",
       "      <td>...</td>\n",
       "      <td>...</td>\n",
       "      <td>...</td>\n",
       "      <td>...</td>\n",
       "      <td>...</td>\n",
       "      <td>...</td>\n",
       "      <td>...</td>\n",
       "      <td>...</td>\n",
       "      <td>...</td>\n",
       "      <td>...</td>\n",
       "      <td>...</td>\n",
       "      <td>...</td>\n",
       "      <td>...</td>\n",
       "      <td>...</td>\n",
       "      <td>...</td>\n",
       "      <td>...</td>\n",
       "      <td>...</td>\n",
       "      <td>...</td>\n",
       "    </tr>\n",
       "    <tr>\n",
       "      <th>3405</th>\n",
       "      <td>5</td>\n",
       "      <td>6</td>\n",
       "      <td>1</td>\n",
       "      <td>5</td>\n",
       "      <td>1</td>\n",
       "      <td>39</td>\n",
       "      <td>6</td>\n",
       "      <td>3</td>\n",
       "      <td>4</td>\n",
       "      <td>400</td>\n",
       "      <td>1</td>\n",
       "      <td>1</td>\n",
       "      <td>3</td>\n",
       "      <td>2</td>\n",
       "      <td>2</td>\n",
       "      <td>2</td>\n",
       "      <td>1994</td>\n",
       "      <td>1</td>\n",
       "    </tr>\n",
       "    <tr>\n",
       "      <th>7179</th>\n",
       "      <td>10</td>\n",
       "      <td>1</td>\n",
       "      <td>1</td>\n",
       "      <td>10</td>\n",
       "      <td>1</td>\n",
       "      <td>33</td>\n",
       "      <td>5</td>\n",
       "      <td>3</td>\n",
       "      <td>2</td>\n",
       "      <td>400</td>\n",
       "      <td>1</td>\n",
       "      <td>1</td>\n",
       "      <td>2</td>\n",
       "      <td>2</td>\n",
       "      <td>2</td>\n",
       "      <td>2</td>\n",
       "      <td>1995</td>\n",
       "      <td>3</td>\n",
       "    </tr>\n",
       "    <tr>\n",
       "      <th>8376</th>\n",
       "      <td>12</td>\n",
       "      <td>6</td>\n",
       "      <td>1</td>\n",
       "      <td>12</td>\n",
       "      <td>1</td>\n",
       "      <td>31</td>\n",
       "      <td>6</td>\n",
       "      <td>3</td>\n",
       "      <td>3</td>\n",
       "      <td>400</td>\n",
       "      <td>1</td>\n",
       "      <td>1</td>\n",
       "      <td>3</td>\n",
       "      <td>2</td>\n",
       "      <td>2</td>\n",
       "      <td>2</td>\n",
       "      <td>1995</td>\n",
       "      <td>1</td>\n",
       "    </tr>\n",
       "    <tr>\n",
       "      <th>7521</th>\n",
       "      <td>10</td>\n",
       "      <td>4</td>\n",
       "      <td>1</td>\n",
       "      <td>12</td>\n",
       "      <td>1</td>\n",
       "      <td>28</td>\n",
       "      <td>5</td>\n",
       "      <td>3</td>\n",
       "      <td>2</td>\n",
       "      <td>400</td>\n",
       "      <td>1</td>\n",
       "      <td>1</td>\n",
       "      <td>3</td>\n",
       "      <td>2</td>\n",
       "      <td>2</td>\n",
       "      <td>2</td>\n",
       "      <td>1995</td>\n",
       "      <td>3</td>\n",
       "    </tr>\n",
       "    <tr>\n",
       "      <th>15044</th>\n",
       "      <td>10</td>\n",
       "      <td>4</td>\n",
       "      <td>1</td>\n",
       "      <td>10</td>\n",
       "      <td>1</td>\n",
       "      <td>45</td>\n",
       "      <td>5</td>\n",
       "      <td>3</td>\n",
       "      <td>2</td>\n",
       "      <td>500</td>\n",
       "      <td>1</td>\n",
       "      <td>1</td>\n",
       "      <td>2</td>\n",
       "      <td>2</td>\n",
       "      <td>2</td>\n",
       "      <td>2</td>\n",
       "      <td>1996</td>\n",
       "      <td>3</td>\n",
       "    </tr>\n",
       "  </tbody>\n",
       "</table>\n",
       "<p>28992 rows × 18 columns</p>\n",
       "</div>"
      ],
      "text/plain": [
       "      Month Make AccidentArea MonthClaimed Sex  Age PolicyType  \\\n",
       "0        12    1            1            1   2   21          1   \n",
       "1         1    1            1            1   1   34          2   \n",
       "2        10    1            1           11   1   47          2   \n",
       "3         6    2            2            7   1   65          3   \n",
       "4         1    1            1            2   2   27          2   \n",
       "...     ...  ...          ...          ...  ..  ...        ...   \n",
       "3405      5    6            1            5   1   39          6   \n",
       "7179     10    1            1           10   1   33          5   \n",
       "8376     12    6            1           12   1   31          6   \n",
       "7521     10    4            1           12   1   28          5   \n",
       "15044    10    4            1           10   1   45          5   \n",
       "\n",
       "      VehicleCategory VehiclePrice  Deductible Days_Policy_Accident  \\\n",
       "0                   1            1         300                    1   \n",
       "1                   1            1         400                    1   \n",
       "2                   1            1         400                    1   \n",
       "3                   1            2         400                    1   \n",
       "4                   1            1         400                    1   \n",
       "...               ...          ...         ...                  ...   \n",
       "3405                3            4         400                    1   \n",
       "7179                3            2         400                    1   \n",
       "8376                3            3         400                    1   \n",
       "7521                3            2         400                    1   \n",
       "15044               3            2         500                    1   \n",
       "\n",
       "      Days_Policy_Claim AgeOfVehicle PoliceReportFiled WitnessPresent  \\\n",
       "0                     1            1                 2              2   \n",
       "1                     1            2                 1              2   \n",
       "2                     1            3                 2              2   \n",
       "3                     1            4                 1              2   \n",
       "4                     1            5                 2              2   \n",
       "...                 ...          ...               ...            ...   \n",
       "3405                  1            3                 2              2   \n",
       "7179                  1            2                 2              2   \n",
       "8376                  1            3                 2              2   \n",
       "7521                  1            3                 2              2   \n",
       "15044                 1            2                 2              2   \n",
       "\n",
       "      NumberOfCars  Year BasePolicy  \n",
       "0                1  1994          2  \n",
       "1                2  1994          1  \n",
       "2                2  1994          1  \n",
       "3                2  1994          2  \n",
       "4                2  1994          1  \n",
       "...            ...   ...        ...  \n",
       "3405             2  1994          1  \n",
       "7179             2  1995          3  \n",
       "8376             2  1995          1  \n",
       "7521             2  1995          3  \n",
       "15044            2  1996          3  \n",
       "\n",
       "[28992 rows x 18 columns]"
      ]
     },
     "execution_count": 106,
     "metadata": {},
     "output_type": "execute_result"
    }
   ],
   "source": [
    "X"
   ]
  },
  {
   "cell_type": "code",
   "execution_count": 107,
   "id": "cd2f0e6a",
   "metadata": {},
   "outputs": [],
   "source": [
    "y = df[\"FraudFound_P\"]"
   ]
  },
  {
   "cell_type": "code",
   "execution_count": null,
   "id": "7071fe15",
   "metadata": {},
   "outputs": [],
   "source": []
  },
  {
   "cell_type": "code",
   "execution_count": 108,
   "id": "a0d58178",
   "metadata": {},
   "outputs": [],
   "source": [
    "from sklearn.model_selection import train_test_split\n",
    "x_train, X_test, y_train, y_test =train_test_split(X, y, test_size=0.2)"
   ]
  },
  {
   "cell_type": "markdown",
   "id": "62d2208e",
   "metadata": {},
   "source": [
    "## Comparing Models to see which of the model performs best on Data"
   ]
  },
  {
   "cell_type": "markdown",
   "id": "f06cbf17",
   "metadata": {},
   "source": [
    "### Models\n",
    "* Logistic Regression\n",
    "* Random Forest Classifier\n",
    "* Gaussian Naive Bayes\n",
    "* Decision Tree Classifier\n",
    "* Gradient Boosting Classifier"
   ]
  },
  {
   "cell_type": "code",
   "execution_count": 109,
   "id": "0fb8c4a3",
   "metadata": {},
   "outputs": [
    {
     "name": "stdout",
     "output_type": "stream",
     "text": [
      "| Model                        |   Accuracy |   Precision |   Recall |   F1-Score |\n",
      "|------------------------------+------------+-------------+----------+------------|\n",
      "| Logistic Regression          |   0.628039 |    0.601297 | 0.765738 |   0.673627 |\n",
      "| Random Forest Classifier     |   0.985687 |    0.972241 | 1        |   0.985925 |\n",
      "| Gaussian Naive Bayes         |   0.629764 |    0.613095 | 0.708634 |   0.657412 |\n",
      "| Decision Tree Classifier     |   0.962062 |    0.929645 | 1        |   0.96354  |\n",
      "| Gradient Boosting Classifier |   0.721504 |    0.671262 | 0.871001 |   0.758197 |\n"
     ]
    }
   ],
   "source": [
    "from sklearn.model_selection import train_test_split\n",
    "from sklearn.linear_model import LogisticRegression\n",
    "from sklearn.ensemble import RandomForestClassifier, GradientBoostingClassifier\n",
    "from sklearn.naive_bayes import GaussianNB\n",
    "from sklearn.tree import DecisionTreeClassifier\n",
    "from sklearn.metrics import accuracy_score, precision_score, recall_score, f1_score\n",
    "from tabulate import tabulate\n",
    "\n",
    "# Split the data into training and testing sets\n",
    "x_train, X_test, y_train, y_test = train_test_split(X, y, test_size=0.2)\n",
    "\n",
    "# Initialize classifiers\n",
    "classifiers = {\n",
    "    'Logistic Regression': LogisticRegression(),\n",
    "    'Random Forest Classifier': RandomForestClassifier(),\n",
    "    'Gaussian Naive Bayes': GaussianNB(),\n",
    "    'Decision Tree Classifier': DecisionTreeClassifier(),\n",
    "    'Gradient Boosting Classifier': GradientBoostingClassifier()\n",
    "}\n",
    "\n",
    "# Train each classifier and generate predictions\n",
    "results = []\n",
    "for name, clf in classifiers.items():\n",
    "    clf.fit(x_train, y_train)\n",
    "    y_pred = clf.predict(X_test)\n",
    "    \n",
    "    # Evaluate the performance of each classifier\n",
    "    accuracy = accuracy_score(y_test, y_pred)\n",
    "    precision = precision_score(y_test, y_pred)\n",
    "    recall = recall_score(y_test, y_pred)\n",
    "    f1 = f1_score(y_test, y_pred)\n",
    "    \n",
    "    # Store the results\n",
    "    results.append([name, accuracy, precision, recall, f1])\n",
    "\n",
    "# Display the results as a table\n",
    "print(tabulate(results, headers=['Model', 'Accuracy', 'Precision', 'Recall', 'F1-Score'], tablefmt='orgtbl'))\n"
   ]
  },
  {
   "cell_type": "markdown",
   "id": "7e974755",
   "metadata": {},
   "source": [
    "***Confusion Matrix od each Models***\n",
    "\n"
   ]
  },
  {
   "cell_type": "code",
   "execution_count": 110,
   "id": "54eafdad",
   "metadata": {},
   "outputs": [
    {
     "data": {
      "image/png": "[encoded data removed]",
      "text/plain": [
       "<Figure size 576x432 with 1 Axes>"
      ]
     },
     "metadata": {
      "needs_background": "light"
     },
     "output_type": "display_data"
    },
    {
     "data": {
      "image/png": "[encoded data removed]",
      "text/plain": [
       "<Figure size 576x432 with 1 Axes>"
      ]
     },
     "metadata": {
      "needs_background": "light"
     },
     "output_type": "display_data"
    },
    {
     "data": {
      "image/png": "[encoded data removed]",
      "text/plain": [
       "<Figure size 576x432 with 1 Axes>"
      ]
     },
     "metadata": {
      "needs_background": "light"
     },
     "output_type": "display_data"
    },
    {
     "data": {
      "image/png": "[encoded data removed]",
      "text/plain": [
       "<Figure size 576x432 with 1 Axes>"
      ]
     },
     "metadata": {
      "needs_background": "light"
     },
     "output_type": "display_data"
    },
    {
     "data": {
      "image/png": "[encoded data removed]",
      "text/plain": [
       "<Figure size 576x432 with 1 Axes>"
      ]
     },
     "metadata": {
      "needs_background": "light"
     },
     "output_type": "display_data"
    }
   ],
   "source": [
    "from sklearn.metrics import confusion_matrix\n",
    "import seaborn as sns\n",
    "import matplotlib.pyplot as plt\n",
    "\n",
    "# Define a function to plot confusion matrix\n",
    "def plot_confusion_matrix(y_true, y_pred, title):\n",
    "    cm = confusion_matrix(y_true, y_pred)\n",
    "    plt.figure(figsize=(8, 6))\n",
    "    sns.heatmap(cm, annot=True, fmt='d', cmap='Blues', cbar=False)\n",
    "    plt.xlabel('Predicted labels')\n",
    "    plt.ylabel('True labels')\n",
    "    plt.title(title)\n",
    "    plt.show()\n",
    "\n",
    "# Generate confusion matrices for each model\n",
    "for name, clf in classifiers.items():\n",
    "    clf.fit(x_train, y_train)\n",
    "    y_pred = clf.predict(X_test)\n",
    "    plot_confusion_matrix(y_test, y_pred, f'Confusion Matrix - {name}')\n"
   ]
  },
  {
   "cell_type": "code",
   "execution_count": 111,
   "id": "4a9c6ccd",
   "metadata": {},
   "outputs": [
    {
     "name": "stdout",
     "output_type": "stream",
     "text": [
      "Gradient Boosting Classifier:\n",
      "Train Accuracy: 0.729918509895227\n",
      "Test Accuracy: 0.7215037075357821\n",
      "\n",
      "Decision Tree Classifier:\n",
      "Train Accuracy: 0.9975854783770965\n",
      "Test Accuracy: 0.96395930332816\n",
      "\n",
      "Gaussian Naive Bayes:\n",
      "Train Accuracy: 0.633768809554607\n",
      "Test Accuracy: 0.6297637523710985\n",
      "\n",
      "Random Forest Classifier:\n",
      "Train Accuracy: 0.9975854783770965\n",
      "Test Accuracy: 0.9870667356440765\n",
      "\n",
      "Logistic Regression:\n",
      "Train Accuracy: 0.6270857586340707\n",
      "Test Accuracy: 0.628039317123642\n",
      "\n"
     ]
    }
   ],
   "source": [
    "from sklearn.metrics import accuracy_score\n",
    "\n",
    "# Define a function to calculate train and test accuracy\n",
    "def calculate_accuracy(model, x_train, y_train, X_test, y_test):\n",
    "    # Fit the model on the training data\n",
    "    model.fit(x_train, y_train)\n",
    "    \n",
    "    # Predictions on training and testing data\n",
    "    train_preds = model.predict(x_train)\n",
    "    test_preds = model.predict(X_test)\n",
    "    \n",
    "    # Calculate accuracy for training and testing data\n",
    "    train_accuracy = accuracy_score(y_train, train_preds)\n",
    "    test_accuracy = accuracy_score(y_test, test_preds)\n",
    "    \n",
    "    return train_accuracy, test_accuracy\n",
    "\n",
    "# Initialize your models\n",
    "models = {\n",
    "    \"Gradient Boosting Classifier\": GradientBoostingClassifier(),\n",
    "    \"Decision Tree Classifier\": DecisionTreeClassifier(),\n",
    "    \"Gaussian Naive Bayes\": GaussianNB(),\n",
    "    \"Random Forest Classifier\": RandomForestClassifier(),\n",
    "    \"Logistic Regression\": LogisticRegression()\n",
    "}\n",
    "\n",
    "# Calculate accuracy for each model\n",
    "for name, model in models.items():\n",
    "    train_accuracy, test_accuracy = calculate_accuracy(model, x_train, y_train, X_test, y_test)\n",
    "    print(f\"{name}:\")\n",
    "    print(f\"Train Accuracy: {train_accuracy}\")\n",
    "    print(f\"Test Accuracy: {test_accuracy}\\n\")\n"
   ]
  },
  {
   "cell_type": "markdown",
   "id": "b5a5d734",
   "metadata": {},
   "source": [
    "# Performing Evaluation and Cross-Validation on each Models\n",
    "\n"
   ]
  },
  {
   "cell_type": "code",
   "execution_count": 112,
   "id": "0bbf5913",
   "metadata": {},
   "outputs": [
    {
     "name": "stdout",
     "output_type": "stream",
     "text": [
      "Logistic Regression:\n",
      "Accuracy: 0.628039317123642\n",
      "Precision: 0.6012965964343598\n",
      "Recall: 0.7657378740970072\n",
      "F1-Score: 0.6736268724466636\n",
      "Cross-Validation Scores: [0.62405691 0.6318172  0.6199612  0.63799051 0.62893489] (Mean: 0.628552141642547)\n",
      "Average Cross-Validation Score: 0.628552141642547\n",
      "\n",
      "Random Forest Classifier:\n",
      "Accuracy: 0.9874116226935679\n",
      "Precision: 0.975503355704698\n",
      "Recall: 1.0\n",
      "F1-Score: 0.9875997961610329\n",
      "Cross-Validation Scores: [0.9857728  0.98469498 0.98404829 0.9829668  0.98382924] (Mean: 0.9842624184536655)\n",
      "Average Cross-Validation Score: 0.9842624184536655\n",
      "\n",
      "Gaussian Naive Bayes:\n",
      "Accuracy: 0.6297637523710985\n",
      "Precision: 0.6130952380952381\n",
      "Recall: 0.7086343309253526\n",
      "F1-Score: 0.6574118397957556\n",
      "Cross-Validation Scores: [0.63849968 0.63289502 0.62642811 0.64294955 0.63109099] (Mean: 0.6343726682705201)\n",
      "Average Cross-Validation Score: 0.6343726682705201\n",
      "\n",
      "Decision Tree Classifier:\n",
      "Accuracy: 0.9608553198827384\n",
      "Precision: 0.9275686024250159\n",
      "Recall: 1.0\n",
      "F1-Score: 0.962423439827843\n",
      "Cross-Validation Scores: [0.95731839 0.95020479 0.95688726 0.9555843  0.95601552] (Mean: 0.9552020521589787)\n",
      "Average Cross-Validation Score: 0.9552020521589787\n",
      "\n",
      "Gradient Boosting Classifier:\n",
      "Accuracy: 0.7215037075357821\n",
      "Precision: 0.6712619300106044\n",
      "Recall: 0.8710010319917441\n",
      "F1-Score: 0.7581973349303788\n",
      "Cross-Validation Scores: [0.73032981 0.7339944  0.73183876 0.73911169 0.74018974] (Mean: 0.7350928778367333)\n",
      "Average Cross-Validation Score: 0.7350928778367333\n",
      "\n"
     ]
    }
   ],
   "source": [
    "from sklearn.model_selection import cross_val_score\n",
    "from sklearn.metrics import accuracy_score, precision_score, recall_score, f1_score\n",
    "\n",
    "# Define a function to evaluate and perform cross-validation for all models\n",
    "def evaluate_models(classifiers, X_train, X_test, y_train, y_test):\n",
    "    results = {}\n",
    "    for name, clf in classifiers.items():\n",
    "        # Train the model\n",
    "        clf.fit(X_train, y_train)\n",
    "        \n",
    "        # Evaluate model performance on test dataset\n",
    "        y_pred = clf.predict(X_test)\n",
    "        accuracy = accuracy_score(y_test, y_pred)\n",
    "        precision = precision_score(y_test, y_pred)\n",
    "        recall = recall_score(y_test, y_pred)\n",
    "        f1 = f1_score(y_test, y_pred)\n",
    "        \n",
    "        # Perform cross-validation\n",
    "        cv_scores = cross_val_score(clf, X_train, y_train, cv=5)\n",
    "        avg_cv_score = cv_scores.mean()\n",
    "        \n",
    "        # Store the results\n",
    "        results[name] = {'Accuracy': accuracy, 'Precision': precision, 'Recall': recall, 'F1-Score': f1,\n",
    "                         'Cross-Validation Scores': cv_scores, 'Average Cross-Validation Score': avg_cv_score}\n",
    "    \n",
    "    return results\n",
    "\n",
    "# Evaluate and perform cross-validation for all models\n",
    "results = evaluate_models(classifiers, x_train, X_test, y_train, y_test)\n",
    "\n",
    "# Print the evaluation results for each model\n",
    "for name, metrics in results.items():\n",
    "    print(f'{name}:')\n",
    "    for metric, value in metrics.items():\n",
    "        if metric != 'Cross-Validation Scores':\n",
    "            print(f'{metric}: {value}')\n",
    "        else:\n",
    "            print(f'{metric}: {value} (Mean: {value.mean()})')\n",
    "    print()\n"
   ]
  },
  {
   "cell_type": "code",
   "execution_count": 113,
   "id": "b641f480",
   "metadata": {},
   "outputs": [
    {
     "name": "stdout",
     "output_type": "stream",
     "text": [
      "Evaluating Logistic Regression:\n",
      "Evaluation on Independent Test Dataset:\n",
      "Accuracy: 0.628039317123642\n",
      "Precision: 0.6012965964343598\n",
      "Recall: 0.7657378740970072\n",
      "F1-Score: 0.6736268724466636\n",
      "-------------------------------------------------------------\n",
      "\n",
      "Evaluating Random Forest Classifier:\n",
      "Evaluation on Independent Test Dataset:\n",
      "Accuracy: 0.9874116226935679\n",
      "Precision: 0.975503355704698\n",
      "Recall: 1.0\n",
      "F1-Score: 0.9875997961610329\n",
      "-------------------------------------------------------------\n",
      "\n",
      "Evaluating Gaussian Naive Bayes:\n",
      "Evaluation on Independent Test Dataset:\n",
      "Accuracy: 0.6297637523710985\n",
      "Precision: 0.6130952380952381\n",
      "Recall: 0.7086343309253526\n",
      "F1-Score: 0.6574118397957556\n",
      "-------------------------------------------------------------\n",
      "\n",
      "Evaluating Decision Tree Classifier:\n",
      "Evaluation on Independent Test Dataset:\n",
      "Accuracy: 0.9608553198827384\n",
      "Precision: 0.9275686024250159\n",
      "Recall: 1.0\n",
      "F1-Score: 0.962423439827843\n",
      "-------------------------------------------------------------\n",
      "\n",
      "Evaluating Gradient Boosting Classifier:\n",
      "Evaluation on Independent Test Dataset:\n",
      "Accuracy: 0.7215037075357821\n",
      "Precision: 0.6712619300106044\n",
      "Recall: 0.8710010319917441\n",
      "F1-Score: 0.7581973349303788\n",
      "-------------------------------------------------------------\n",
      "\n"
     ]
    }
   ],
   "source": [
    "from sklearn.metrics import accuracy_score, precision_score, recall_score, f1_score\n",
    "\n",
    "# Define a function to evaluate the model on the independent test dataset\n",
    "def evaluate_model(model, X_test, y_test):\n",
    "    # Evaluate the model on the independent test dataset\n",
    "    y_pred_test = model.predict(X_test)\n",
    "    accuracy_test = accuracy_score(y_test, y_pred_test)\n",
    "    precision_test = precision_score(y_test, y_pred_test)\n",
    "    recall_test = recall_score(y_test, y_pred_test)\n",
    "    f1_test = f1_score(y_test, y_pred_test)\n",
    "\n",
    "    print(\"Evaluation on Independent Test Dataset:\")\n",
    "    print(f\"Accuracy: {accuracy_test}\")\n",
    "    print(f\"Precision: {precision_test}\")\n",
    "    print(f\"Recall: {recall_test}\")\n",
    "    print(f\"F1-Score: {f1_test}\")\n",
    "\n",
    "# Evaluate each model on the independent test dataset\n",
    "for name, model in classifiers.items():\n",
    "    print(f\"Evaluating {name}:\")\n",
    "    evaluate_model(model, X_test, y_test)\n",
    "    print(\"-------------------------------------------------------------\\n\")\n"
   ]
  },
  {
   "cell_type": "code",
   "execution_count": 114,
   "id": "c8f064bd",
   "metadata": {},
   "outputs": [
    {
     "name": "stdout",
     "output_type": "stream",
     "text": [
      "Performing Error Analysis for Logistic Regression:\n",
      "Error Analysis - Sample of Incorrectly Classified Instances:\n",
      "Instance #1:\n",
      "Actual Label: 0\n",
      "Predicted Label: 1\n",
      "Features: Month                     12\n",
      "Make                       6\n",
      "AccidentArea               1\n",
      "MonthClaimed              12\n",
      "Sex                        1\n",
      "Age                       27\n",
      "PolicyType                 5\n",
      "VehicleCategory            3\n",
      "VehiclePrice               2\n",
      "Deductible               400\n",
      "Days_Policy_Accident       1\n",
      "Days_Policy_Claim          1\n",
      "AgeOfVehicle               3\n",
      "PoliceReportFiled          2\n",
      "WitnessPresent             2\n",
      "NumberOfCars               2\n",
      "Year                    1994\n",
      "BasePolicy                 3\n",
      "Name: 566, dtype: object\n",
      "\n",
      "Instance #2:\n",
      "Actual Label: 0\n",
      "Predicted Label: 1\n",
      "Features: Month                      6\n",
      "Make                      12\n",
      "AccidentArea               1\n",
      "MonthClaimed               6\n",
      "Sex                        1\n",
      "Age                       64\n",
      "PolicyType                 5\n",
      "VehicleCategory            3\n",
      "VehiclePrice               1\n",
      "Deductible               400\n",
      "Days_Policy_Accident       1\n",
      "Days_Policy_Claim          1\n",
      "AgeOfVehicle               4\n",
      "PoliceReportFiled          2\n",
      "WitnessPresent             2\n",
      "NumberOfCars               2\n",
      "Year                    1994\n",
      "BasePolicy                 3\n",
      "Name: 3864, dtype: object\n",
      "\n",
      "Instance #3:\n",
      "Actual Label: 0\n",
      "Predicted Label: 1\n",
      "Features: Month                      5\n",
      "Make                       6\n",
      "AccidentArea               1\n",
      "MonthClaimed               5\n",
      "Sex                        1\n",
      "Age                       73\n",
      "PolicyType                 5\n",
      "VehicleCategory            3\n",
      "VehiclePrice               3\n",
      "Deductible               400\n",
      "Days_Policy_Accident       1\n",
      "Days_Policy_Claim          1\n",
      "AgeOfVehicle               4\n",
      "PoliceReportFiled          2\n",
      "WitnessPresent             2\n",
      "NumberOfCars               2\n",
      "Year                    1995\n",
      "BasePolicy                 3\n",
      "Name: 6915, dtype: object\n",
      "\n",
      "Instance #4:\n",
      "Actual Label: 1\n",
      "Predicted Label: 0\n",
      "Features: Month                     12\n",
      "Make                       6\n",
      "AccidentArea               2\n",
      "MonthClaimed              12\n",
      "Sex                        1\n",
      "Age                       43\n",
      "PolicyType                 6\n",
      "VehicleCategory            3\n",
      "VehiclePrice               4\n",
      "Deductible               400\n",
      "Days_Policy_Accident       1\n",
      "Days_Policy_Claim          1\n",
      "AgeOfVehicle               4\n",
      "PoliceReportFiled          2\n",
      "WitnessPresent             2\n",
      "NumberOfCars               2\n",
      "Year                    1995\n",
      "BasePolicy                 1\n",
      "Name: 8633, dtype: object\n",
      "\n",
      "Instance #5:\n",
      "Actual Label: 0\n",
      "Predicted Label: 1\n",
      "Features: Month                      6\n",
      "Make                       4\n",
      "AccidentArea               1\n",
      "MonthClaimed               7\n",
      "Sex                        1\n",
      "Age                       48\n",
      "PolicyType                 6\n",
      "VehicleCategory            3\n",
      "VehiclePrice               2\n",
      "Deductible               400\n",
      "Days_Policy_Accident       1\n",
      "Days_Policy_Claim          1\n",
      "AgeOfVehicle               3\n",
      "PoliceReportFiled          2\n",
      "WitnessPresent             2\n",
      "NumberOfCars               2\n",
      "Year                    1995\n",
      "BasePolicy                 1\n",
      "Name: 9475, dtype: object\n",
      "\n",
      "-------------------------------------------------------------\n",
      "\n",
      "Performing Error Analysis for Random Forest Classifier:\n",
      "Error Analysis - Sample of Incorrectly Classified Instances:\n",
      "Instance #1:\n",
      "Actual Label: 0\n",
      "Predicted Label: 1\n",
      "Features: Month                      6\n",
      "Make                      12\n",
      "AccidentArea               1\n",
      "MonthClaimed               6\n",
      "Sex                        1\n",
      "Age                       64\n",
      "PolicyType                 5\n",
      "VehicleCategory            3\n",
      "VehiclePrice               1\n",
      "Deductible               400\n",
      "Days_Policy_Accident       1\n",
      "Days_Policy_Claim          1\n",
      "AgeOfVehicle               4\n",
      "PoliceReportFiled          2\n",
      "WitnessPresent             2\n",
      "NumberOfCars               2\n",
      "Year                    1994\n",
      "BasePolicy                 3\n",
      "Name: 3864, dtype: object\n",
      "\n",
      "Instance #2:\n",
      "Actual Label: 0\n",
      "Predicted Label: 1\n",
      "Features: Month                      4\n",
      "Make                       6\n",
      "AccidentArea               1\n",
      "MonthClaimed               5\n",
      "Sex                        1\n",
      "Age                       26\n",
      "PolicyType                 5\n",
      "VehicleCategory            3\n",
      "VehiclePrice               2\n",
      "Deductible               400\n",
      "Days_Policy_Accident       1\n",
      "Days_Policy_Claim          1\n",
      "AgeOfVehicle               2\n",
      "PoliceReportFiled          2\n",
      "WitnessPresent             2\n",
      "NumberOfCars               2\n",
      "Year                    1996\n",
      "BasePolicy                 3\n",
      "Name: 11488, dtype: object\n",
      "\n",
      "Instance #3:\n",
      "Actual Label: 0\n",
      "Predicted Label: 1\n",
      "Features: Month                      6\n",
      "Make                       6\n",
      "AccidentArea               2\n",
      "MonthClaimed               7\n",
      "Sex                        1\n",
      "Age                       40\n",
      "PolicyType                 5\n",
      "VehicleCategory            3\n",
      "VehiclePrice               2\n",
      "Deductible               400\n",
      "Days_Policy_Accident       1\n",
      "Days_Policy_Claim          1\n",
      "AgeOfVehicle               3\n",
      "PoliceReportFiled          2\n",
      "WitnessPresent             2\n",
      "NumberOfCars               2\n",
      "Year                    1994\n",
      "BasePolicy                 3\n",
      "Name: 2684, dtype: object\n",
      "\n",
      "Instance #4:\n",
      "Actual Label: 0\n",
      "Predicted Label: 1\n",
      "Features: Month                      5\n",
      "Make                       1\n",
      "AccidentArea               1\n",
      "MonthClaimed               7\n",
      "Sex                        1\n",
      "Age                       46\n",
      "PolicyType                 6\n",
      "VehicleCategory            3\n",
      "VehiclePrice               2\n",
      "Deductible               400\n",
      "Days_Policy_Accident       5\n",
      "Days_Policy_Claim          1\n",
      "AgeOfVehicle               4\n",
      "PoliceReportFiled          2\n",
      "WitnessPresent             2\n",
      "NumberOfCars               2\n",
      "Year                    1996\n",
      "BasePolicy                 1\n",
      "Name: 14388, dtype: object\n",
      "\n",
      "Instance #5:\n",
      "Actual Label: 0\n",
      "Predicted Label: 1\n",
      "Features: Month                      9\n",
      "Make                       7\n",
      "AccidentArea               2\n",
      "MonthClaimed              10\n",
      "Sex                        1\n",
      "Age                       33\n",
      "PolicyType                 4\n",
      "VehicleCategory            2\n",
      "VehiclePrice               1\n",
      "Deductible               400\n",
      "Days_Policy_Accident       1\n",
      "Days_Policy_Claim          1\n",
      "AgeOfVehicle               3\n",
      "PoliceReportFiled          2\n",
      "WitnessPresent             2\n",
      "NumberOfCars               2\n",
      "Year                    1995\n",
      "BasePolicy                 3\n",
      "Name: 8303, dtype: object\n",
      "\n",
      "-------------------------------------------------------------\n",
      "\n",
      "Performing Error Analysis for Gaussian Naive Bayes:\n",
      "Error Analysis - Sample of Incorrectly Classified Instances:\n",
      "Instance #1:\n",
      "Actual Label: 0\n",
      "Predicted Label: 1\n",
      "Features: Month                     12\n",
      "Make                       6\n",
      "AccidentArea               1\n",
      "MonthClaimed              12\n",
      "Sex                        1\n",
      "Age                       27\n",
      "PolicyType                 5\n",
      "VehicleCategory            3\n",
      "VehiclePrice               2\n",
      "Deductible               400\n",
      "Days_Policy_Accident       1\n",
      "Days_Policy_Claim          1\n",
      "AgeOfVehicle               3\n",
      "PoliceReportFiled          2\n",
      "WitnessPresent             2\n",
      "NumberOfCars               2\n",
      "Year                    1994\n",
      "BasePolicy                 3\n",
      "Name: 566, dtype: object\n",
      "\n",
      "Instance #2:\n",
      "Actual Label: 0\n",
      "Predicted Label: 1\n",
      "Features: Month                      6\n",
      "Make                      12\n",
      "AccidentArea               1\n",
      "MonthClaimed               6\n",
      "Sex                        1\n",
      "Age                       64\n",
      "PolicyType                 5\n",
      "VehicleCategory            3\n",
      "VehiclePrice               1\n",
      "Deductible               400\n",
      "Days_Policy_Accident       1\n",
      "Days_Policy_Claim          1\n",
      "AgeOfVehicle               4\n",
      "PoliceReportFiled          2\n",
      "WitnessPresent             2\n",
      "NumberOfCars               2\n",
      "Year                    1994\n",
      "BasePolicy                 3\n",
      "Name: 3864, dtype: object\n",
      "\n",
      "Instance #3:\n",
      "Actual Label: 1\n",
      "Predicted Label: 0\n",
      "Features: Month                     10\n",
      "Make                       1\n",
      "AccidentArea               1\n",
      "MonthClaimed              10\n",
      "Sex                        1\n",
      "Age                       68\n",
      "PolicyType                 5\n",
      "VehicleCategory            3\n",
      "VehiclePrice               2\n",
      "Deductible               400\n",
      "Days_Policy_Accident       1\n",
      "Days_Policy_Claim          1\n",
      "AgeOfVehicle               4\n",
      "PoliceReportFiled          2\n",
      "WitnessPresent             2\n",
      "NumberOfCars               2\n",
      "Year                    1996\n",
      "BasePolicy                 3\n",
      "Name: 15110, dtype: object\n",
      "\n",
      "Instance #4:\n",
      "Actual Label: 0\n",
      "Predicted Label: 1\n",
      "Features: Month                      5\n",
      "Make                       6\n",
      "AccidentArea               1\n",
      "MonthClaimed               5\n",
      "Sex                        1\n",
      "Age                       73\n",
      "PolicyType                 5\n",
      "VehicleCategory            3\n",
      "VehiclePrice               3\n",
      "Deductible               400\n",
      "Days_Policy_Accident       1\n",
      "Days_Policy_Claim          1\n",
      "AgeOfVehicle               4\n",
      "PoliceReportFiled          2\n",
      "WitnessPresent             2\n",
      "NumberOfCars               2\n",
      "Year                    1995\n",
      "BasePolicy                 3\n",
      "Name: 6915, dtype: object\n",
      "\n",
      "Instance #5:\n",
      "Actual Label: 0\n",
      "Predicted Label: 1\n",
      "Features: Month                      6\n",
      "Make                       4\n",
      "AccidentArea               1\n",
      "MonthClaimed               7\n",
      "Sex                        1\n",
      "Age                       48\n",
      "PolicyType                 6\n",
      "VehicleCategory            3\n",
      "VehiclePrice               2\n",
      "Deductible               400\n",
      "Days_Policy_Accident       1\n",
      "Days_Policy_Claim          1\n",
      "AgeOfVehicle               3\n",
      "PoliceReportFiled          2\n",
      "WitnessPresent             2\n",
      "NumberOfCars               2\n",
      "Year                    1995\n",
      "BasePolicy                 1\n",
      "Name: 9475, dtype: object\n",
      "\n",
      "-------------------------------------------------------------\n",
      "\n",
      "Performing Error Analysis for Decision Tree Classifier:\n",
      "Error Analysis - Sample of Incorrectly Classified Instances:\n",
      "Instance #1:\n",
      "Actual Label: 0\n",
      "Predicted Label: 1\n",
      "Features: Month                      6\n",
      "Make                      12\n",
      "AccidentArea               1\n",
      "MonthClaimed               6\n",
      "Sex                        1\n",
      "Age                       64\n",
      "PolicyType                 5\n",
      "VehicleCategory            3\n",
      "VehiclePrice               1\n",
      "Deductible               400\n",
      "Days_Policy_Accident       1\n",
      "Days_Policy_Claim          1\n",
      "AgeOfVehicle               4\n",
      "PoliceReportFiled          2\n",
      "WitnessPresent             2\n",
      "NumberOfCars               2\n",
      "Year                    1994\n",
      "BasePolicy                 3\n",
      "Name: 3864, dtype: object\n",
      "\n",
      "Instance #2:\n",
      "Actual Label: 0\n",
      "Predicted Label: 1\n",
      "Features: Month                      1\n",
      "Make                       5\n",
      "AccidentArea               1\n",
      "MonthClaimed               1\n",
      "Sex                        1\n",
      "Age                       33\n",
      "PolicyType                 6\n",
      "VehicleCategory            3\n",
      "VehiclePrice               3\n",
      "Deductible               400\n",
      "Days_Policy_Accident       1\n",
      "Days_Policy_Claim          1\n",
      "AgeOfVehicle               2\n",
      "PoliceReportFiled          2\n",
      "WitnessPresent             2\n",
      "NumberOfCars               2\n",
      "Year                    1995\n",
      "BasePolicy                 1\n",
      "Name: 8450, dtype: object\n",
      "\n",
      "Instance #3:\n",
      "Actual Label: 0\n",
      "Predicted Label: 1\n",
      "Features: Month                     10\n",
      "Make                       1\n",
      "AccidentArea               1\n",
      "MonthClaimed              11\n",
      "Sex                        1\n",
      "Age                       33\n",
      "PolicyType                 6\n",
      "VehicleCategory            3\n",
      "VehiclePrice               2\n",
      "Deductible               400\n",
      "Days_Policy_Accident       1\n",
      "Days_Policy_Claim          1\n",
      "AgeOfVehicle               2\n",
      "PoliceReportFiled          2\n",
      "WitnessPresent             2\n",
      "NumberOfCars               2\n",
      "Year                    1995\n",
      "BasePolicy                 1\n",
      "Name: 6857, dtype: object\n",
      "\n",
      "Instance #4:\n",
      "Actual Label: 0\n",
      "Predicted Label: 1\n",
      "Features: Month                      4\n",
      "Make                       2\n",
      "AccidentArea               1\n",
      "MonthClaimed               4\n",
      "Sex                        1\n",
      "Age                       39\n",
      "PolicyType                 5\n",
      "VehicleCategory            3\n",
      "VehiclePrice               4\n",
      "Deductible               400\n",
      "Days_Policy_Accident       1\n",
      "Days_Policy_Claim          1\n",
      "AgeOfVehicle               3\n",
      "PoliceReportFiled          2\n",
      "WitnessPresent             2\n",
      "NumberOfCars               2\n",
      "Year                    1994\n",
      "BasePolicy                 3\n",
      "Name: 3036, dtype: object\n",
      "\n",
      "Instance #5:\n",
      "Actual Label: 0\n",
      "Predicted Label: 1\n",
      "Features: Month                      9\n",
      "Make                       4\n",
      "AccidentArea               1\n",
      "MonthClaimed               9\n",
      "Sex                        1\n",
      "Age                       34\n",
      "PolicyType                 6\n",
      "VehicleCategory            3\n",
      "VehiclePrice               4\n",
      "Deductible               400\n",
      "Days_Policy_Accident       1\n",
      "Days_Policy_Claim          1\n",
      "AgeOfVehicle               2\n",
      "PoliceReportFiled          2\n",
      "WitnessPresent             2\n",
      "NumberOfCars               2\n",
      "Year                    1996\n",
      "BasePolicy                 1\n",
      "Name: 13358, dtype: object\n",
      "\n",
      "-------------------------------------------------------------\n",
      "\n",
      "Performing Error Analysis for Gradient Boosting Classifier:\n",
      "Error Analysis - Sample of Incorrectly Classified Instances:\n",
      "Instance #1:\n",
      "Actual Label: 0\n",
      "Predicted Label: 1\n",
      "Features: Month                      6\n",
      "Make                       6\n",
      "AccidentArea               1\n",
      "MonthClaimed               6\n",
      "Sex                        2\n",
      "Age                       36\n",
      "PolicyType                 6\n",
      "VehicleCategory            3\n",
      "VehiclePrice               3\n",
      "Deductible               400\n",
      "Days_Policy_Accident       1\n",
      "Days_Policy_Claim          1\n",
      "AgeOfVehicle               2\n",
      "PoliceReportFiled          2\n",
      "WitnessPresent             2\n",
      "NumberOfCars               2\n",
      "Year                    1995\n",
      "BasePolicy                 1\n",
      "Name: 7137, dtype: object\n",
      "\n",
      "Instance #2:\n",
      "Actual Label: 0\n",
      "Predicted Label: 1\n",
      "Features: Month                      6\n",
      "Make                      12\n",
      "AccidentArea               1\n",
      "MonthClaimed               6\n",
      "Sex                        1\n",
      "Age                       64\n",
      "PolicyType                 5\n",
      "VehicleCategory            3\n",
      "VehiclePrice               1\n",
      "Deductible               400\n",
      "Days_Policy_Accident       1\n",
      "Days_Policy_Claim          1\n",
      "AgeOfVehicle               4\n",
      "PoliceReportFiled          2\n",
      "WitnessPresent             2\n",
      "NumberOfCars               2\n",
      "Year                    1994\n",
      "BasePolicy                 3\n",
      "Name: 3864, dtype: object\n",
      "\n",
      "Instance #3:\n",
      "Actual Label: 0\n",
      "Predicted Label: 1\n",
      "Features: Month                      1\n",
      "Make                       5\n",
      "AccidentArea               1\n",
      "MonthClaimed               1\n",
      "Sex                        1\n",
      "Age                       33\n",
      "PolicyType                 6\n",
      "VehicleCategory            3\n",
      "VehiclePrice               3\n",
      "Deductible               400\n",
      "Days_Policy_Accident       1\n",
      "Days_Policy_Claim          1\n",
      "AgeOfVehicle               2\n",
      "PoliceReportFiled          2\n",
      "WitnessPresent             2\n",
      "NumberOfCars               2\n",
      "Year                    1995\n",
      "BasePolicy                 1\n",
      "Name: 8450, dtype: object\n",
      "\n",
      "Instance #4:\n",
      "Actual Label: 0\n",
      "Predicted Label: 1\n",
      "Features: Month                     11\n",
      "Make                       5\n",
      "AccidentArea               1\n",
      "MonthClaimed              11\n",
      "Sex                        1\n",
      "Age                       39\n",
      "PolicyType                 6\n",
      "VehicleCategory            3\n",
      "VehiclePrice               3\n",
      "Deductible               400\n",
      "Days_Policy_Accident       1\n",
      "Days_Policy_Claim          1\n",
      "AgeOfVehicle               4\n",
      "PoliceReportFiled          2\n",
      "WitnessPresent             2\n",
      "NumberOfCars               2\n",
      "Year                    1995\n",
      "BasePolicy                 1\n",
      "Name: 8008, dtype: object\n",
      "\n",
      "Instance #5:\n",
      "Actual Label: 1\n",
      "Predicted Label: 0\n",
      "Features: Month                     10\n",
      "Make                       4\n",
      "AccidentArea               1\n",
      "MonthClaimed              11\n",
      "Sex                        2\n",
      "Age                       32\n",
      "PolicyType                 6\n",
      "VehicleCategory            3\n",
      "VehiclePrice               2\n",
      "Deductible               400\n",
      "Days_Policy_Accident       1\n",
      "Days_Policy_Claim          1\n",
      "AgeOfVehicle               2\n",
      "PoliceReportFiled          2\n",
      "WitnessPresent             2\n",
      "NumberOfCars               2\n",
      "Year                    1995\n",
      "BasePolicy                 1\n",
      "Name: 7497, dtype: object\n",
      "\n",
      "-------------------------------------------------------------\n",
      "\n"
     ]
    }
   ],
   "source": [
    "# Define a function to perform error analysis\n",
    "def error_analysis(model, X_test, y_test):\n",
    "    # Evaluate the model on the independent test dataset\n",
    "    y_pred_test = model.predict(X_test)\n",
    "    \n",
    "    # Error Analysis\n",
    "    errors = X_test[y_test != y_pred_test]\n",
    "    correct_labels = y_test[y_test != y_pred_test]\n",
    "    incorrect_labels = y_pred_test[y_test != y_pred_test]\n",
    "\n",
    "    # Print a sample of incorrectly classified instances\n",
    "    print(\"Error Analysis - Sample of Incorrectly Classified Instances:\")\n",
    "    for i in range(min(5, len(errors))):\n",
    "        print(f\"Instance #{i+1}:\")\n",
    "        print(f\"Actual Label: {correct_labels.iloc[i]}\")\n",
    "        print(f\"Predicted Label: {incorrect_labels[i]}\")\n",
    "        print(f\"Features: {errors.iloc[i]}\")\n",
    "        print()\n",
    "\n",
    "# Perform error analysis for each model\n",
    "for name, model in classifiers.items():\n",
    "    print(f\"Performing Error Analysis for {name}:\")\n",
    "    error_analysis(model, X_test, y_test)\n",
    "    print(\"-------------------------------------------------------------\\n\")\n"
   ]
  },
  {
   "cell_type": "code",
   "execution_count": 115,
   "id": "461c88b2",
   "metadata": {},
   "outputs": [
    {
     "name": "stdout",
     "output_type": "stream",
     "text": [
      "       Actual Label  Predicted Label\n",
      "7137              0                1\n",
      "6805              1                1\n",
      "566               0                0\n",
      "3864              0                1\n",
      "1340              0                0\n",
      "15110             1                1\n",
      "7711              0                0\n",
      "8312              1                1\n",
      "6915              0                0\n",
      "14055             1                1\n"
     ]
    }
   ],
   "source": [
    "\n",
    "# Create a DataFrame to store the actual and predicted labels\n",
    "df_labels = pd.DataFrame({'Actual Label': y_test, 'Predicted Label': y_pred})\n",
    "\n",
    "# Display the top 10 predicted and actual labels\n",
    "top_10_labels = df_labels.head(10)\n",
    "print(top_10_labels)\n"
   ]
  },
  {
   "cell_type": "markdown",
   "id": "0acf925c",
   "metadata": {},
   "source": [
    "***Logistic Regression***"
   ]
  },
  {
   "cell_type": "code",
   "execution_count": 116,
   "id": "c2648293",
   "metadata": {},
   "outputs": [
    {
     "name": "stdout",
     "output_type": "stream",
     "text": [
      "Best Parameters for Logistic Regression: {'C': 0.001, 'penalty': 'l2'}\n",
      "Best Score for Logistic Regression: 0.6287245926018056\n"
     ]
    }
   ],
   "source": [
    "from sklearn.model_selection import GridSearchCV\n",
    "from sklearn.linear_model import LogisticRegression\n",
    "\n",
    "# Define hyperparameters grid\n",
    "param_grid = {\n",
    "    'C': [0.001, 0.01, 0.1, 1, 10, 100],  \n",
    "    'penalty': ['l1', 'l2']\n",
    "}\n",
    "\n",
    "# Instantiate Logistic Regression classifier\n",
    "lr_classifier = LogisticRegression()\n",
    "\n",
    "# Perform grid search cross-validation\n",
    "lr_grid_search = GridSearchCV(estimator=lr_classifier, param_grid=param_grid, cv=5, scoring='accuracy')\n",
    "lr_grid_search.fit(x_train, y_train)\n",
    "\n",
    "# Get the best parameters and best score\n",
    "best_lr_params = lr_grid_search.best_params_\n",
    "best_lr_score = lr_grid_search.best_score_\n",
    "\n",
    "print(\"Best Parameters for Logistic Regression:\", best_lr_params)\n",
    "print(\"Best Score for Logistic Regression:\", best_lr_score)\n"
   ]
  },
  {
   "cell_type": "markdown",
   "id": "86039f0a",
   "metadata": {},
   "source": [
    "***Decision Tree Classifier***"
   ]
  },
  {
   "cell_type": "code",
   "execution_count": 119,
   "id": "e14377be",
   "metadata": {},
   "outputs": [
    {
     "name": "stdout",
     "output_type": "stream",
     "text": [
      "Best Parameters for Decision Tree: {'max_depth': None, 'min_samples_leaf': 1, 'min_samples_split': 2}\n",
      "Best Score for Decision Tree: 0.9550726395751713\n"
     ]
    }
   ],
   "source": [
    "from sklearn.tree import DecisionTreeClassifier\n",
    "\n",
    "# Define hyperparameters grid\n",
    "param_grid = {\n",
    "    'max_depth': [None, 10, 20],\n",
    "    'min_samples_split': [2, 5, 10],\n",
    "    'min_samples_leaf': [1, 2, 4]\n",
    "}\n",
    "\n",
    "# Instantiate Decision Tree classifier\n",
    "dt_classifier = DecisionTreeClassifier()\n",
    "\n",
    "# Perform grid search cross-validation\n",
    "dt_grid_search = GridSearchCV(estimator=dt_classifier, param_grid=param_grid, cv=5, scoring='accuracy')\n",
    "dt_grid_search.fit(x_train, y_train)\n",
    "\n",
    "# Get the best parameters and best score\n",
    "best_dt_params = dt_grid_search.best_params_\n",
    "best_dt_score = dt_grid_search.best_score_\n",
    "\n",
    "print(\"Best Parameters for Decision Tree:\", best_dt_params)\n",
    "print(\"Best Score for Decision Tree:\", best_dt_score)\n"
   ]
  },
  {
   "cell_type": "markdown",
   "id": "fbf1f88b",
   "metadata": {},
   "source": [
    "***Gradient Boosting Classifier***"
   ]
  },
  {
   "cell_type": "code",
   "execution_count": 121,
   "id": "f19ecc0a",
   "metadata": {},
   "outputs": [
    {
     "name": "stdout",
     "output_type": "stream",
     "text": [
      "Best Parameters for Gradient Boosting: {'learning_rate': 0.5, 'max_depth': 7, 'n_estimators': 200}\n",
      "Best Score for Gradient Boosting: 0.9713276948413719\n"
     ]
    }
   ],
   "source": [
    "from sklearn.ensemble import GradientBoostingClassifier\n",
    "\n",
    "# Define hyperparameters grid\n",
    "param_grid = {\n",
    "    'n_estimators': [50, 100, 200],\n",
    "    'learning_rate': [0.01, 0.1, 0.5],\n",
    "    'max_depth': [3, 5, 7]\n",
    "}\n",
    "\n",
    "# Instantiate Gradient Boosting classifier\n",
    "gb_classifier = GradientBoostingClassifier()\n",
    "\n",
    "# Perform grid search cross-validation\n",
    "gb_grid_search = GridSearchCV(estimator=gb_classifier, param_grid=param_grid, cv=5, scoring='accuracy')\n",
    "gb_grid_search.fit(x_train, y_train)\n",
    "\n",
    "# Get the best parameters and best score\n",
    "best_gb_params = gb_grid_search.best_params_\n",
    "best_gb_score = gb_grid_search.best_score_\n",
    "\n",
    "print(\"Best Parameters for Gradient Boosting:\", best_gb_params)\n",
    "print(\"Best Score for Gradient Boosting:\", best_gb_score)\n"
   ]
  },
  {
   "cell_type": "markdown",
   "id": "f04f063f",
   "metadata": {},
   "source": [
    "***Random Forest Classifier***"
   ]
  },
  {
   "cell_type": "code",
   "execution_count": null,
   "id": "6d01479a",
   "metadata": {},
   "outputs": [],
   "source": []
  }
 ],
 "metadata": {
  "kernelspec": {
   "display_name": "Python 3 (ipykernel)",
   "language": "python",
   "name": "python3"
  },
  "language_info": {
   "codemirror_mode": {
    "name": "ipython",
    "version": 3
   },
   "file_extension": ".py",
   "mimetype": "text/x-python",
   "name": "python",
   "nbconvert_exporter": "python",
   "pygments_lexer": "ipython3",
   "version": "3.9.12"
  },
  "vscode": {
   "interpreter": {
    "hash": "86c09a04604f81c7c62e58c4e4933b19a1c58f4b64ba50187bda4ccf878853db"
   }
  }
 },
 "nbformat": 4,
 "nbformat_minor": 5
}
